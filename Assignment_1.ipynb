{
  "nbformat": 4,
  "nbformat_minor": 0,
  "metadata": {
    "colab": {
      "name": "Assignment_1.ipynb",
      "provenance": [],
      "authorship_tag": "ABX9TyO4451Q1FXpRM2gJpK/l7bi",
      "include_colab_link": true
    },
    "kernelspec": {
      "name": "python3",
      "display_name": "Python 3"
    }
  },
  "cells": [
    {
      "cell_type": "markdown",
      "metadata": {
        "id": "view-in-github",
        "colab_type": "text"
      },
      "source": [
        "<a href=\"https://colab.research.google.com/github/sj-onu/Python_own/blob/master/Assignment_1.ipynb\" target=\"_parent\"><img src=\"https://colab.research.google.com/assets/colab-badge.svg\" alt=\"Open In Colab\"/></a>"
      ]
    },
    {
      "cell_type": "code",
      "metadata": {
        "id": "uEIlK5rnltSG",
        "colab_type": "code",
        "colab": {
          "base_uri": "https://localhost:8080/",
          "height": 129
        },
        "outputId": "c49f2f20-4549-48e8-8593-ad200e765abb"
      },
      "source": [
        "#Assignment\n",
        "class Sports:\n",
        "  def __init__(self,name,type,player):\n",
        "    self.name =name\n",
        "    self.type =type\n",
        "    self.player =player\n",
        "  def showinfo(self):\n",
        "      print(self.name,self.type,self.player)\n",
        "class Indoor(Sports):\n",
        "  def InGame(self,game):\n",
        "    self.game=game\n",
        "   print(\"He can play:\",  self.game)\n",
        "class Outdoor(Sports):\n",
        "  def setOutGame(self, game):\n",
        "    self.game = game\n",
        "class Ludo(Indoor):\n",
        "  def No_of_player_ludo(self, player):\n",
        "    self.player = player\n",
        "class Chess(Indoor):\n",
        "  def No_of_player_chess(self,Player):\n",
        "    self.Player = Player\n",
        "class Football(Outdoor):\n",
        "  def No_of_player_foot(sel,Player):\n",
        "    self.Player = Player\n",
        "class Cricket(Outdoor):\n",
        "  def No_of_player_cricket(self,Player):\n",
        "    self.Player = Player\n",
        "\n",
        "\n",
        "class BasketBall(Indoor,Outdoor):\n",
        "  def printinfo(self):\n",
        "        print(\"The type of this game is\", self.type)\n",
        "        print(\"He can play:\",  self.game)"
      ],
      "execution_count": 1,
      "outputs": [
        {
          "output_type": "error",
          "ename": "IndentationError",
          "evalue": "ignored",
          "traceback": [
            "\u001b[0;36m  File \u001b[0;32m\"<ipython-input-1-03cba378b1ce>\"\u001b[0;36m, line \u001b[0;32m12\u001b[0m\n\u001b[0;31m    print(\"He can play:\",  self.game)\u001b[0m\n\u001b[0m                                     ^\u001b[0m\n\u001b[0;31mIndentationError\u001b[0m\u001b[0;31m:\u001b[0m unindent does not match any outer indentation level\n"
          ]
        }
      ]
    },
    {
      "cell_type": "code",
      "metadata": {
        "id": "AibUm9170z8l",
        "colab_type": "code",
        "colab": {}
      },
      "source": [
        ""
      ],
      "execution_count": null,
      "outputs": []
    },
    {
      "cell_type": "code",
      "metadata": {
        "id": "zLrd60gG5snd",
        "colab_type": "code",
        "colab": {}
      },
      "source": [
        "#Assignment\n",
        "class Sports:\n",
        "  def __init__(self,name,sport_type,player):\n",
        "    self.name =name\n",
        "    self.sport_type =sport_type\n",
        "    self.player =player\n",
        "  def showinfo(self):\n",
        "      print(self.name,\"Is a \",self.sport_type,\"sport\",\"played by\",self.player,\"player.\")"
      ],
      "execution_count": 2,
      "outputs": []
    },
    {
      "cell_type": "code",
      "metadata": {
        "id": "V2vJ2v8z50eS",
        "colab_type": "code",
        "colab": {}
      },
      "source": [
        "class Indoor(Sports):\n",
        "  def setInGame(self):\n",
        "    print(\"Indoor sport\")\n",
        "\n",
        "class Ludo(Indoor):\n",
        "  def Ingame(self):\n",
        "    print(\"Ludo is a Indoor sport\")"
      ],
      "execution_count": 3,
      "outputs": []
    },
    {
      "cell_type": "code",
      "metadata": {
        "id": "Q-f5BOI662hE",
        "colab_type": "code",
        "colab": {}
      },
      "source": [
        "Sp=Ludo(\"Ludo\",\"Indoor\",\"4\",)"
      ],
      "execution_count": 4,
      "outputs": []
    },
    {
      "cell_type": "code",
      "metadata": {
        "id": "Hwt-o_Sd7Muy",
        "colab_type": "code",
        "colab": {
          "base_uri": "https://localhost:8080/",
          "height": 34
        },
        "outputId": "c0b4db71-1b51-447f-f4d5-b82d56ee00c9"
      },
      "source": [
        "Sp.showinfo()"
      ],
      "execution_count": 5,
      "outputs": [
        {
          "output_type": "stream",
          "text": [
            "Ludo Is a  Indoor sport played by 4 player.\n"
          ],
          "name": "stdout"
        }
      ]
    },
    {
      "cell_type": "code",
      "metadata": {
        "id": "WwMsiBPc70-i",
        "colab_type": "code",
        "colab": {
          "base_uri": "https://localhost:8080/",
          "height": 34
        },
        "outputId": "0a3d132a-b308-4126-bd5b-969fe6206a27"
      },
      "source": [
        "Sp.Ingame()"
      ],
      "execution_count": 6,
      "outputs": [
        {
          "output_type": "stream",
          "text": [
            "Ludo is a Indoor sport\n"
          ],
          "name": "stdout"
        }
      ]
    },
    {
      "cell_type": "code",
      "metadata": {
        "id": "Umh6Y64479In",
        "colab_type": "code",
        "colab": {}
      },
      "source": [
        "class Outdoor(Sports):\n",
        "  def outGame(self):\n",
        "    print(\"Outdoor sport\")\n",
        "\n",
        "class Football(Outdoor):\n",
        "  def Ingame(self):\n",
        "    print(\"Football is a Indoor sport\")"
      ],
      "execution_count": 7,
      "outputs": []
    },
    {
      "cell_type": "code",
      "metadata": {
        "id": "DxSXPddP8PRP",
        "colab_type": "code",
        "colab": {}
      },
      "source": [
        "OD=Football(\"Football\",\"Outdoor\",\"11\",)"
      ],
      "execution_count": 8,
      "outputs": []
    },
    {
      "cell_type": "code",
      "metadata": {
        "id": "q32VlrAu8b1Q",
        "colab_type": "code",
        "colab": {
          "base_uri": "https://localhost:8080/",
          "height": 34
        },
        "outputId": "c993c108-d648-4fed-aea1-7f56cd6e8e60"
      },
      "source": [
        "OD.showinfo()"
      ],
      "execution_count": 9,
      "outputs": [
        {
          "output_type": "stream",
          "text": [
            "Football Is a  Outdoor sport played by 11 player.\n"
          ],
          "name": "stdout"
        }
      ]
    },
    {
      "cell_type": "code",
      "metadata": {
        "id": "UzaxvEwU8qZ3",
        "colab_type": "code",
        "colab": {}
      },
      "source": [
        "class BasketBall(Indoor,Outdoor):\n",
        "  def InOut(self):\n",
        "        print(\"BasketBall is both an indoor and outdoor sport\")"
      ],
      "execution_count": 10,
      "outputs": []
    },
    {
      "cell_type": "code",
      "metadata": {
        "id": "f0w57eq_-kJA",
        "colab_type": "code",
        "colab": {}
      },
      "source": [
        "INOUT=BasketBall(\"Basketball\", \"both indoor and outdoor\", 5)"
      ],
      "execution_count": null,
      "outputs": []
    },
    {
      "cell_type": "code",
      "metadata": {
        "id": "Ck2u95Tw_gQW",
        "colab_type": "code",
        "colab": {
          "base_uri": "https://localhost:8080/",
          "height": 34
        },
        "outputId": "248a45f7-f6fb-4fe9-f7ad-76cdba158c49"
      },
      "source": [
        "INOUT.showinfo()"
      ],
      "execution_count": null,
      "outputs": [
        {
          "output_type": "stream",
          "text": [
            "Basketball Is a  both indoor and outdoor sport played by 5 player.\n"
          ],
          "name": "stdout"
        }
      ]
    },
    {
      "cell_type": "code",
      "metadata": {
        "id": "V_WhcrWDAlN5",
        "colab_type": "code",
        "colab": {
          "base_uri": "https://localhost:8080/",
          "height": 68
        },
        "outputId": "2d05a2e9-7508-4d26-fce7-e8eaa48cb63b"
      },
      "source": [
        "#Assignment\n",
        "class Sports:\n",
        "  def __init__(self,name,sport_type,player):\n",
        "    self.name =name\n",
        "    self.sport_type =sport_type\n",
        "    self.player =player\n",
        "  def showinfo(self):\n",
        "      print(self.name,\"Is a \",self.sport_type,\"sport\",\"played by\",self.player,\"player.\")\n",
        "\n",
        "\n",
        "class Indoor(Sports):\n",
        "  def setInGame(self):\n",
        "    print(\"Indoor sport\")\n",
        "\n",
        "class Ludo(Indoor):\n",
        "  def Ingame(self):\n",
        "    print(\"Ludo is a Indoor sport\")\n",
        "\n",
        "class Outdoor(Sports):\n",
        "  def outGame(self):\n",
        "    print(\"Outdoor sport\")\n",
        "\n",
        "class Football(Outdoor):\n",
        "  def Ingame(self):\n",
        "    print(\"Football is a Indoor sport\")\n",
        "\n",
        "class BasketBall(Indoor,Outdoor):\n",
        "  def InOut(self):\n",
        "        print(\"BasketBall is both an indoor and outdoor sport\")\n",
        "\n",
        "\n",
        "\n",
        "ID=Ludo(\"Ludo\",\"Indoor\",\"4\",)\n",
        "OD=Football(\"Football\",\"Outdoor\",\"11\",)\n",
        "INOUT=BasketBall(\"Basketball\", \"both indoor and outdoor\", 4)\n",
        "ID.showinfo()\n",
        "OD.showinfo()\n",
        "INOUT.showinfo()\n"
      ],
      "execution_count": null,
      "outputs": [
        {
          "output_type": "stream",
          "text": [
            "Ludo Is a  Indoor sport played by 4 player.\n",
            "Football Is a  Outdoor sport played by 11 player.\n",
            "Basketball Is a  both indoor and outdoor sport played by 4 player.\n"
          ],
          "name": "stdout"
        }
      ]
    }
  ]
}