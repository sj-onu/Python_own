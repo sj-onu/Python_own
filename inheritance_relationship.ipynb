{
  "nbformat": 4,
  "nbformat_minor": 0,
  "metadata": {
    "colab": {
      "name": "inheritance relationship.ipynb",
      "provenance": [],
      "collapsed_sections": [],
      "authorship_tag": "ABX9TyPOpRpjcG9+6N0YAOf4mNYy",
      "include_colab_link": true
    },
    "kernelspec": {
      "name": "python3",
      "display_name": "Python 3"
    }
  },
  "cells": [
    {
      "cell_type": "markdown",
      "metadata": {
        "id": "view-in-github",
        "colab_type": "text"
      },
      "source": [
        "<a href=\"https://colab.research.google.com/github/sj-onu/Python_own/blob/master/inheritance_relationship.ipynb\" target=\"_parent\"><img src=\"https://colab.research.google.com/assets/colab-badge.svg\" alt=\"Open In Colab\"/></a>"
      ]
    },
    {
      "cell_type": "code",
      "metadata": {
        "id": "AxkvNQnqK9Hi",
        "colab_type": "code",
        "colab": {}
      },
      "source": [
        "class Mobile:\n",
        "\n",
        "  def __init__(self, IMEI):\n",
        "    self.IMEI = IMEI\n",
        "  \n",
        "  def call(self, contact_number):\n",
        "    print(\"Calling ... \" , contact_number)\n",
        "  \n",
        "  def text(self, contact_number, mgs):\n",
        "    print(\"Sending message to\", contact_number, mgs)"
      ],
      "execution_count": null,
      "outputs": []
    },
    {
      "cell_type": "code",
      "metadata": {
        "id": "N26XgPsTPgx2",
        "colab_type": "code",
        "colab": {}
      },
      "source": [
        "a= Mobile(192030)"
      ],
      "execution_count": null,
      "outputs": []
    },
    {
      "cell_type": "code",
      "metadata": {
        "id": "iolc49lTT0kI",
        "colab_type": "code",
        "colab": {}
      },
      "source": [
        "class PayrollSystem:\n",
        "    def calculate_payroll(self, employees):\n",
        "        print('Calculating Payroll')\n",
        "        print('===================')\n",
        "        for employee in employees:\n",
        "            print(f'Payroll for: {employee.id} - {employee.name}')\n",
        "            print(f'- Check amount: {employee.calculate_payroll()}')\n",
        "            print('')\n",
        "class Employee:\n",
        "    def __init__(self, id, name):\n",
        "        self.id = id\n",
        "        self.name = name\n",
        "\n",
        "class SalaryEmployee(Employee):\n",
        "    def __init__(self, id, name, weekly_salary):\n",
        "        super().__init__(id, name)\n",
        "        self.weekly_salary = weekly_salary\n",
        "\n",
        "    def calculate_payroll(self):\n",
        "        return self.weekly_salary\n",
        "\n",
        "class HourlyEmployee(Employee):\n",
        "    def __init__(self, id, name, hours_worked, hour_rate):\n",
        "        super().__init__(id, name)\n",
        "        self.hours_worked = hours_worked\n",
        "        self.hour_rate = hour_rate\n",
        "\n",
        "    def calculate_payroll(self):\n",
        "        return self.hours_worked * self.hour_rate\n",
        "class CommissionEmployee(SalaryEmployee):\n",
        "    def __init__(self, id, name, weekly_salary, commission):\n",
        "        super().__init__(id, name, weekly_salary)\n",
        "        self.commission = commission\n",
        "\n",
        "    def calculate_payroll(self):\n",
        "        fixed = super().calculate_payroll()\n",
        "        return fixed + self.commission\n",
        "\n",
        "\n"
      ],
      "execution_count": null,
      "outputs": []
    },
    {
      "cell_type": "code",
      "metadata": {
        "id": "3c6Y-EV5Vl9q",
        "colab_type": "code",
        "colab": {
          "base_uri": "https://localhost:8080/",
          "height": 367
        },
        "outputId": "725b6b47-0272-44d3-80db-419c68074e90"
      },
      "source": [
        "import hr\n",
        "\n",
        "salary_employee = hr.SalaryEmployee(1, 'John Smith', 1500)\n",
        "hourly_employee = hr.HourlyEmployee(2, 'Jane Doe', 40, 15)\n",
        "commission_employee = hr.CommissionEmployee(3, 'Kevin Bacon', 1000, 250)\n",
        "payroll_system = hr.PayrollSystem()\n",
        "payroll_system.calculate_payroll([\n",
        "    salary_employee,\n",
        "    hourly_employee,\n",
        "    commission_employee\n",
        "])"
      ],
      "execution_count": null,
      "outputs": [
        {
          "output_type": "error",
          "ename": "ModuleNotFoundError",
          "evalue": "ignored",
          "traceback": [
            "\u001b[0;31m---------------------------------------------------------------------------\u001b[0m",
            "\u001b[0;31mModuleNotFoundError\u001b[0m                       Traceback (most recent call last)",
            "\u001b[0;32m<ipython-input-30-71b1b2fcd9db>\u001b[0m in \u001b[0;36m<module>\u001b[0;34m()\u001b[0m\n\u001b[0;32m----> 1\u001b[0;31m \u001b[0;32mimport\u001b[0m \u001b[0mhr\u001b[0m\u001b[0;34m\u001b[0m\u001b[0;34m\u001b[0m\u001b[0m\n\u001b[0m\u001b[1;32m      2\u001b[0m \u001b[0;34m\u001b[0m\u001b[0m\n\u001b[1;32m      3\u001b[0m \u001b[0msalary_employee\u001b[0m \u001b[0;34m=\u001b[0m \u001b[0mhr\u001b[0m\u001b[0;34m.\u001b[0m\u001b[0mSalaryEmployee\u001b[0m\u001b[0;34m(\u001b[0m\u001b[0;36m1\u001b[0m\u001b[0;34m,\u001b[0m \u001b[0;34m'John Smith'\u001b[0m\u001b[0;34m,\u001b[0m \u001b[0;36m1500\u001b[0m\u001b[0;34m)\u001b[0m\u001b[0;34m\u001b[0m\u001b[0;34m\u001b[0m\u001b[0m\n\u001b[1;32m      4\u001b[0m \u001b[0mhourly_employee\u001b[0m \u001b[0;34m=\u001b[0m \u001b[0mhr\u001b[0m\u001b[0;34m.\u001b[0m\u001b[0mHourlyEmployee\u001b[0m\u001b[0;34m(\u001b[0m\u001b[0;36m2\u001b[0m\u001b[0;34m,\u001b[0m \u001b[0;34m'Jane Doe'\u001b[0m\u001b[0;34m,\u001b[0m \u001b[0;36m40\u001b[0m\u001b[0;34m,\u001b[0m \u001b[0;36m15\u001b[0m\u001b[0;34m)\u001b[0m\u001b[0;34m\u001b[0m\u001b[0;34m\u001b[0m\u001b[0m\n\u001b[1;32m      5\u001b[0m \u001b[0mcommission_employee\u001b[0m \u001b[0;34m=\u001b[0m \u001b[0mhr\u001b[0m\u001b[0;34m.\u001b[0m\u001b[0mCommissionEmployee\u001b[0m\u001b[0;34m(\u001b[0m\u001b[0;36m3\u001b[0m\u001b[0;34m,\u001b[0m \u001b[0;34m'Kevin Bacon'\u001b[0m\u001b[0;34m,\u001b[0m \u001b[0;36m1000\u001b[0m\u001b[0;34m,\u001b[0m \u001b[0;36m250\u001b[0m\u001b[0;34m)\u001b[0m\u001b[0;34m\u001b[0m\u001b[0;34m\u001b[0m\u001b[0m\n",
            "\u001b[0;31mModuleNotFoundError\u001b[0m: No module named 'hr'",
            "",
            "\u001b[0;31m---------------------------------------------------------------------------\u001b[0;32m\nNOTE: If your import is failing due to a missing package, you can\nmanually install dependencies using either !pip or !apt.\n\nTo view examples of installing some common dependencies, click the\n\"Open Examples\" button below.\n\u001b[0;31m---------------------------------------------------------------------------\u001b[0m\n"
          ]
        }
      ]
    }
  ]
}