{
  "nbformat": 4,
  "nbformat_minor": 0,
  "metadata": {
    "colab": {
      "name": "inheritance relationship.ipynb",
      "provenance": [],
      "collapsed_sections": [],
      "authorship_tag": "ABX9TyNsS/PYSpAbE4Ro9QPWCFmk",
      "include_colab_link": true
    },
    "kernelspec": {
      "name": "python3",
      "display_name": "Python 3"
    }
  },
  "cells": [
    {
      "cell_type": "markdown",
      "metadata": {
        "id": "view-in-github",
        "colab_type": "text"
      },
      "source": [
        "<a href=\"https://colab.research.google.com/github/sj-onu/Python_own/blob/master/inheritance_relationship.ipynb\" target=\"_parent\"><img src=\"https://colab.research.google.com/assets/colab-badge.svg\" alt=\"Open In Colab\"/></a>"
      ]
    },
    {
      "cell_type": "code",
      "metadata": {
        "id": "AxkvNQnqK9Hi",
        "colab_type": "code",
        "colab": {}
      },
      "source": [
        "class Mobile:\n",
        "\n",
        "  def __init__(self, IMEI):\n",
        "    self.IMEI = IMEI\n",
        "  \n",
        "  def call(self, contact_number):\n",
        "    print(\"Calling ... \" , contact_number)\n",
        "  \n",
        "  def text(self, contact_number, mgs):\n",
        "    print(\"Sending message to\", contact_number, mgs)"
      ],
      "execution_count": 2,
      "outputs": []
    },
    {
      "cell_type": "code",
      "metadata": {
        "id": "N26XgPsTPgx2",
        "colab_type": "code",
        "colab": {}
      },
      "source": [
        "a= Mobile(192030)"
      ],
      "execution_count": 3,
      "outputs": []
    },
    {
      "cell_type": "code",
      "metadata": {
        "id": "eKuDIyDeBSJm",
        "colab_type": "code",
        "colab": {
          "base_uri": "https://localhost:8080/",
          "height": 34
        },
        "outputId": "3394a77d-bfe3-4059-f1ad-066a8f3e4a8d"
      },
      "source": [
        "a.call(\"01634836278\")"
      ],
      "execution_count": 4,
      "outputs": [
        {
          "output_type": "stream",
          "text": [
            "Calling ...  01634836278\n"
          ],
          "name": "stdout"
        }
      ]
    },
    {
      "cell_type": "code",
      "metadata": {
        "id": "66qD4uULBoti",
        "colab_type": "code",
        "colab": {
          "base_uri": "https://localhost:8080/",
          "height": 34
        },
        "outputId": "341116e6-9d3c-47d4-fca1-4afd1cdbc7fd"
      },
      "source": [
        "a.text(\"0164567788\",\"Hello Onu\")"
      ],
      "execution_count": 6,
      "outputs": [
        {
          "output_type": "stream",
          "text": [
            "Sending message to 0164567788 Hello Onu\n"
          ],
          "name": "stdout"
        }
      ]
    },
    {
      "cell_type": "code",
      "metadata": {
        "id": "s7kgg9fkD9CB",
        "colab_type": "code",
        "colab": {}
      },
      "source": [
        "class SamsungMobile(Mobile):\n",
        "  def set_logo(self):\n",
        "    print(\"Samsung logo is set\")\n",
        "\n",
        "class SamsungA50(SamsungMobile):\n",
        "  def set_model(self):\n",
        "    print(\"Sansumg A50 is set\")"
      ],
      "execution_count": 12,
      "outputs": []
    },
    {
      "cell_type": "code",
      "metadata": {
        "id": "M5Pkbhf3EWfW",
        "colab_type": "code",
        "colab": {}
      },
      "source": [
        "Sabrina_mobile = SamsungA50(\"0845546dsfjnsdfkmdsf5412\")"
      ],
      "execution_count": 13,
      "outputs": []
    },
    {
      "cell_type": "code",
      "metadata": {
        "id": "iolc49lTT0kI",
        "colab_type": "code",
        "colab": {}
      },
      "source": [
        "class PayrollSystem:\n",
        "    def calculate_payroll(self, employees):\n",
        "        print('Calculating Payroll')\n",
        "        print('===================')\n",
        "        for employee in employees:\n",
        "            print(f'Payroll for: {employee.id} - {employee.name}')\n",
        "            print(f'- Check amount: {employee.calculate_payroll()}')\n",
        "            print('')\n",
        "class Employee:\n",
        "    def __init__(self, id, name):\n",
        "        self.id = id\n",
        "        self.name = name\n",
        "\n",
        "class SalaryEmployee(Employee):\n",
        "    def __init__(self, id, name, weekly_salary):\n",
        "        super().__init__(id, name)\n",
        "        self.weekly_salary = weekly_salary\n",
        "\n",
        "    def calculate_payroll(self):\n",
        "        return self.weekly_salary\n",
        "\n",
        "class HourlyEmployee(Employee):\n",
        "    def __init__(self, id, name, hours_worked, hour_rate):\n",
        "        super().__init__(id, name)\n",
        "        self.hours_worked = hours_worked\n",
        "        self.hour_rate = hour_rate\n",
        "\n",
        "    def calculate_payroll(self):\n",
        "        return self.hours_worked * self.hour_rate\n",
        "class CommissionEmployee(SalaryEmployee):\n",
        "    def __init__(self, id, name, weekly_salary, commission):\n",
        "        super().__init__(id, name, weekly_salary)\n",
        "        self.commission = commission\n",
        "\n",
        "    def calculate_payroll(self):\n",
        "        fixed = super().calculate_payroll()\n",
        "        return fixed + self.commission\n",
        "\n",
        "\n"
      ],
      "execution_count": 7,
      "outputs": []
    },
    {
      "cell_type": "code",
      "metadata": {
        "id": "3c6Y-EV5Vl9q",
        "colab_type": "code",
        "colab": {}
      },
      "source": [
        "\n",
        "\n",
        "salary_employee = hr.SalaryEmployee(1, 'John Smith', 1500)\n",
        "hourly_employee = hr.HourlyEmployee(2, 'Jane Doe', 40, 15)\n",
        "commission_employee = hr.CommissionEmployee(3, 'Kevin Bacon', 1000, 250)\n",
        "payroll_system = hr.PayrollSystem()\n",
        "payroll_system.calculate_payroll([\n",
        "    salary_employee,\n",
        "    hourly_employee,\n",
        "    commission_employee\n",
        "])"
      ],
      "execution_count": null,
      "outputs": []
    },
    {
      "cell_type": "code",
      "metadata": {
        "id": "n7PE-aUfDcjU",
        "colab_type": "code",
        "colab": {}
      },
      "source": [
        ""
      ],
      "execution_count": null,
      "outputs": []
    }
  ]
}