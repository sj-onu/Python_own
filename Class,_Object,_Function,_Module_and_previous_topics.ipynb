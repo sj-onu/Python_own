{
  "nbformat": 4,
  "nbformat_minor": 0,
  "metadata": {
    "colab": {
      "name": " Class, Object, Function, Module and previous topics.ipynb",
      "provenance": [],
      "authorship_tag": "ABX9TyOYNmfS9kDxWzYON4+nmkzV",
      "include_colab_link": true
    },
    "kernelspec": {
      "name": "python3",
      "display_name": "Python 3"
    }
  },
  "cells": [
    {
      "cell_type": "markdown",
      "metadata": {
        "id": "view-in-github",
        "colab_type": "text"
      },
      "source": [
        "<a href=\"https://colab.research.google.com/github/sj-onu/Python_own/blob/master/Class%2C_Object%2C_Function%2C_Module_and_previous_topics.ipynb\" target=\"_parent\"><img src=\"https://colab.research.google.com/assets/colab-badge.svg\" alt=\"Open In Colab\"/></a>"
      ]
    },
    {
      "cell_type": "code",
      "metadata": {
        "id": "XHdh4egz1MQC",
        "colab_type": "code",
        "colab": {}
      },
      "source": [
        "class Account:\n",
        "  account_number = 0\n",
        "  balance = 0.0\n",
        "\n",
        "  def show_data(self):\n",
        "    # account_number -> just checks the method parameters\n",
        "    # self.account_number -> checks the class parameters\n",
        "    print(self.account_number, \" : \", self.balance)\n",
        "  \n",
        "  def set_balance(self, balance):\n",
        "    # self.balance -> class variable\n",
        "    # balance -> method parameter\n",
        "    self.balance = balance"
      ],
      "execution_count": null,
      "outputs": []
    },
    {
      "cell_type": "code",
      "metadata": {
        "id": "SqDmegZnpl-r",
        "colab_type": "code",
        "colab": {}
      },
      "source": [
        "a= Account()"
      ],
      "execution_count": null,
      "outputs": []
    },
    {
      "cell_type": "code",
      "metadata": {
        "id": "u9LKysw0pyxs",
        "colab_type": "code",
        "colab": {}
      },
      "source": [
        "  a.account_number=55"
      ],
      "execution_count": null,
      "outputs": []
    },
    {
      "cell_type": "code",
      "metadata": {
        "id": "fa8sD6fUp7Gg",
        "colab_type": "code",
        "colab": {}
      },
      "source": [
        "a.set_balance(1000)"
      ],
      "execution_count": null,
      "outputs": []
    },
    {
      "cell_type": "code",
      "metadata": {
        "id": "Az4x68yVqAgE",
        "colab_type": "code",
        "colab": {
          "base_uri": "https://localhost:8080/",
          "height": 34
        },
        "outputId": "e18a0b66-af6c-42c1-cbad-91335566e7c0"
      },
      "source": [
        "print(a.account_number,a.balance)"
      ],
      "execution_count": null,
      "outputs": [
        {
          "output_type": "stream",
          "text": [
            "55 1000\n"
          ],
          "name": "stdout"
        }
      ]
    },
    {
      "cell_type": "code",
      "metadata": {
        "id": "bQrKOGIe-yoW",
        "colab_type": "code",
        "colab": {}
      },
      "source": [
        "class Account2:\n",
        "  account_number = 0\n",
        "  __balance = 0.0\n",
        "\n",
        "  def show_data(self):\n",
        "    # account_number -> just checks the method parameters\n",
        "    # self.account_number -> checks the class parameters\n",
        "    print(self.account_number, \" : \", self.balance)\n",
        "  \n",
        "  def set_balance(self, balance):\n",
        "    # self.balance -> class variable\n",
        "    # balance -> method parameter\n",
        "    self.balance = balance"
      ],
      "execution_count": null,
      "outputs": []
    },
    {
      "cell_type": "code",
      "metadata": {
        "id": "2F7o7_8Rzu8Y",
        "colab_type": "code",
        "colab": {}
      },
      "source": [
        "a2=Account2()"
      ],
      "execution_count": null,
      "outputs": []
    },
    {
      "cell_type": "code",
      "metadata": {
        "id": "QJ1wLqTfz2Bn",
        "colab_type": "code",
        "colab": {
          "base_uri": "https://localhost:8080/",
          "height": 34
        },
        "outputId": "0fa3356f-357a-40e7-f9f6-e769d699c4ad"
      },
      "source": [
        " print(a2.account_number, \" : \",a2.balance)"
      ],
      "execution_count": null,
      "outputs": [
        {
          "output_type": "stream",
          "text": [
            "55  :  5000\n"
          ],
          "name": "stdout"
        }
      ]
    },
    {
      "cell_type": "code",
      "metadata": {
        "id": "1zApWjSY0GO3",
        "colab_type": "code",
        "colab": {}
      },
      "source": [
        " a2.account_number=55"
      ],
      "execution_count": null,
      "outputs": []
    },
    {
      "cell_type": "code",
      "metadata": {
        "id": "Qpx92HN00OVC",
        "colab_type": "code",
        "colab": {}
      },
      "source": [
        "a2.balance=5000"
      ],
      "execution_count": null,
      "outputs": []
    },
    {
      "cell_type": "code",
      "metadata": {
        "id": "uJiuuLrL1LAS",
        "colab_type": "code",
        "colab": {
          "base_uri": "https://localhost:8080/",
          "height": 34
        },
        "outputId": "057ae93e-f207-40e5-c4d0-e890cd4f1202"
      },
      "source": [
        "a2.show_data()"
      ],
      "execution_count": null,
      "outputs": [
        {
          "output_type": "stream",
          "text": [
            "55  :  5000\n"
          ],
          "name": "stdout"
        }
      ]
    },
    {
      "cell_type": "code",
      "metadata": {
        "id": "ksCEVTO73KDu",
        "colab_type": "code",
        "colab": {}
      },
      "source": [
        "a2.__balance = 1000"
      ],
      "execution_count": null,
      "outputs": []
    },
    {
      "cell_type": "code",
      "metadata": {
        "id": "BKHqJBn-7h65",
        "colab_type": "code",
        "colab": {}
      },
      "source": [
        "class Account3:\n",
        "  account_number = 0 # public attribute\n",
        "  __balance = 0.0 # Private attribute\n",
        "\n",
        "  def __init__(self, account_number, balance): # This is the constructor\n",
        "    self.account_number = account_number\n",
        "    self.__balance = balance\n",
        "\n",
        "  def show_data(self):\n",
        "    # account_number -> just checks the method parameters\n",
        "    # self.account_number -> checks the class parameters\n",
        "    print(self.account_number, \" : \", self.__balance)\n",
        "  \n",
        "  def add_balance(self, balance):\n",
        "    # self.balance -> class variable\n",
        "    # balance -> method parameter\n",
        "    self.__balance += balance"
      ],
      "execution_count": null,
      "outputs": []
    },
    {
      "cell_type": "code",
      "metadata": {
        "id": "6t01pl5k7kPj",
        "colab_type": "code",
        "colab": {}
      },
      "source": [
        "a3= Account3(1,1000)"
      ],
      "execution_count": null,
      "outputs": []
    },
    {
      "cell_type": "code",
      "metadata": {
        "id": "7oMs_qZ78C1k",
        "colab_type": "code",
        "colab": {
          "base_uri": "https://localhost:8080/",
          "height": 34
        },
        "outputId": "e7d097dc-4287-4729-fb32-471296f711e9"
      },
      "source": [
        "a3.show_data()"
      ],
      "execution_count": null,
      "outputs": [
        {
          "output_type": "stream",
          "text": [
            "1  :  1000\n"
          ],
          "name": "stdout"
        }
      ]
    },
    {
      "cell_type": "code",
      "metadata": {
        "id": "5D8cbiJ98IGh",
        "colab_type": "code",
        "colab": {}
      },
      "source": [
        "a3.add_balance=600"
      ],
      "execution_count": null,
      "outputs": []
    },
    {
      "cell_type": "code",
      "metadata": {
        "id": "0thIZFtGG_fN",
        "colab_type": "code",
        "colab": {
          "base_uri": "https://localhost:8080/",
          "height": 129
        },
        "outputId": "1666a258-cfe7-4c95-e352-bb3bb96cab94"
      },
      "source": [
        "class UAP:\n",
        "\n",
        "    def __init__(self, name, department , Id, Building):\n",
        "    self.name = name\n",
        "    self.department = departmen\n",
        "    self.owner = owner\n",
        "\n",
        "  def set_shops(self, n):\n",
        "    self.number_of_shops = n\n",
        "  \n",
        "  def open_or_close(self, day):\n",
        "    if(day == \"Sunday\"):\n",
        "      print(\"Closed!\")\n",
        "    else:\n",
        "      print(\"Welcome. We are open!\")\n",
        "    \n",
        "  def show_info(self):\n",
        "    print(\"Name: \", self.name)\n",
        "    print(\"Owner: \", self.owner)\n",
        "    print(\"Location: \", self.location)\n",
        "    print(\"Shops count:\", self.number_of_shops)"
      ],
      "execution_count": null,
      "outputs": [
        {
          "output_type": "error",
          "ename": "IndentationError",
          "evalue": "ignored",
          "traceback": [
            "\u001b[0;36m  File \u001b[0;32m\"<ipython-input-58-b22fb26e4b04>\"\u001b[0;36m, line \u001b[0;32m4\u001b[0m\n\u001b[0;31m    self.name = name\u001b[0m\n\u001b[0m       ^\u001b[0m\n\u001b[0;31mIndentationError\u001b[0m\u001b[0;31m:\u001b[0m expected an indented block\n"
          ]
        }
      ]
    },
    {
      "cell_type": "code",
      "metadata": {
        "id": "eHonk03AHM13",
        "colab_type": "code",
        "colab": {}
      },
      "source": [
        "Sumya_sisters = Shopping_Complex(\"Sumya sisters Unlimited\", \"Mymanshing\", \"Sumya\")"
      ],
      "execution_count": null,
      "outputs": []
    },
    {
      "cell_type": "code",
      "metadata": {
        "id": "g8of5wnZHrwv",
        "colab_type": "code",
        "colab": {}
      },
      "source": [
        "Sumya_sisters.set_shops(00)"
      ],
      "execution_count": null,
      "outputs": []
    },
    {
      "cell_type": "code",
      "metadata": {
        "id": "44UmkMQ1Hw4a",
        "colab_type": "code",
        "colab": {
          "base_uri": "https://localhost:8080/",
          "height": 34
        },
        "outputId": "2f7b04d5-8bae-4798-e55b-e46ac6cfcef2"
      },
      "source": [
        "Sumya_sisters.open_or_close(\"Sunday\")"
      ],
      "execution_count": null,
      "outputs": [
        {
          "output_type": "stream",
          "text": [
            "Closed!\n"
          ],
          "name": "stdout"
        }
      ]
    },
    {
      "cell_type": "code",
      "metadata": {
        "id": "uCSKpBl5HOTO",
        "colab_type": "code",
        "colab": {
          "base_uri": "https://localhost:8080/",
          "height": 85
        },
        "outputId": "1d03a1a2-8162-4388-b34c-adb13205d439"
      },
      "source": [
        "Sumya_sisters.show_info()"
      ],
      "execution_count": null,
      "outputs": [
        {
          "output_type": "stream",
          "text": [
            "Name:  Sumya sisters Unlimited\n",
            "Owner:  Sumya\n",
            "Location:  Mymanshing\n",
            "Shops count: 0\n"
          ],
          "name": "stdout"
        }
      ]
    },
    {
      "cell_type": "code",
      "metadata": {
        "id": "62wz5FAsIAfU",
        "colab_type": "code",
        "colab": {}
      },
      "source": [
        "Sumya_sisters.CEO = \"Sakib\""
      ],
      "execution_count": null,
      "outputs": []
    },
    {
      "cell_type": "code",
      "metadata": {
        "id": "aoSu4PaVIJ-F",
        "colab_type": "code",
        "colab": {}
      },
      "source": [
        "class CEO:\n",
        "  def __init__(self, name, age):\n",
        "    self.name = name\n",
        "    self.age = age\n",
        "  \n",
        "  def show_info(self):\n",
        "    print(\"CEO Name:\", self.name)\n",
        "    print(\"CEO Age:\", self.age)"
      ],
      "execution_count": null,
      "outputs": []
    },
    {
      "cell_type": "code",
      "metadata": {
        "id": "2ym8n7NcIbcr",
        "colab_type": "code",
        "colab": {}
      },
      "source": [
        "sakib = CEO(\"Sakib\", 60)"
      ],
      "execution_count": null,
      "outputs": []
    },
    {
      "cell_type": "code",
      "metadata": {
        "id": "DkiaBTJEIemD",
        "colab_type": "code",
        "colab": {
          "base_uri": "https://localhost:8080/",
          "height": 51
        },
        "outputId": "ab984618-fbbf-40e0-8737-b5e613cc36be"
      },
      "source": [
        "sakib.show_info()"
      ],
      "execution_count": null,
      "outputs": [
        {
          "output_type": "stream",
          "text": [
            "CEO Name: Sakib\n",
            "CEO Age: 60\n"
          ],
          "name": "stdout"
        }
      ]
    },
    {
      "cell_type": "code",
      "metadata": {
        "id": "3WCQDckDJjGL",
        "colab_type": "code",
        "colab": {
          "base_uri": "https://localhost:8080/",
          "height": 34
        },
        "outputId": "9cf8b1ff-3b13-46b0-f943-eec108210a6d"
      },
      "source": [
        "l = [\"A\", \"b\", \"jhbsd\"]\n",
        "l = l + [\"New\"]\n",
        "print(l)"
      ],
      "execution_count": null,
      "outputs": [
        {
          "output_type": "stream",
          "text": [
            "['A', 'b', 'jhbsd', 'New']\n"
          ],
          "name": "stdout"
        }
      ]
    },
    {
      "cell_type": "code",
      "metadata": {
        "id": "VS7T2PURJvd-",
        "colab_type": "code",
        "colab": {
          "base_uri": "https://localhost:8080/",
          "height": 34
        },
        "outputId": "c414230a-9342-4a7d-b84e-fc2a964e065a"
      },
      "source": [
        "c = [\"New\"]\n",
        "c"
      ],
      "execution_count": null,
      "outputs": [
        {
          "output_type": "execute_result",
          "data": {
            "text/plain": [
              "['New']"
            ]
          },
          "metadata": {
            "tags": []
          },
          "execution_count": 55
        }
      ]
    },
    {
      "cell_type": "code",
      "metadata": {
        "id": "d_d34A5_JxWA",
        "colab_type": "code",
        "colab": {
          "base_uri": "https://localhost:8080/",
          "height": 34
        },
        "outputId": "b9091e09-91a4-4879-ebce-9142a334e603"
      },
      "source": [
        "l=l+c\n",
        "l"
      ],
      "execution_count": null,
      "outputs": [
        {
          "output_type": "execute_result",
          "data": {
            "text/plain": [
              "['A', 'b', 'jhbsd', 'New', 'New', 'New']"
            ]
          },
          "metadata": {
            "tags": []
          },
          "execution_count": 57
        }
      ]
    }
  ]
}