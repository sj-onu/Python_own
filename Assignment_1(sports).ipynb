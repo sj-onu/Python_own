{
  "nbformat": 4,
  "nbformat_minor": 0,
  "metadata": {
    "colab": {
      "name": "18101043.ipynb",
      "provenance": [],
      "collapsed_sections": [],
      "authorship_tag": "ABX9TyOHMUvpgwCPHtv0gqNWMzRv",
      "include_colab_link": true
    },
    "kernelspec": {
      "name": "python3",
      "display_name": "Python 3"
    }
  },
  "cells": [
    {
      "cell_type": "markdown",
      "metadata": {
        "id": "view-in-github",
        "colab_type": "text"
      },
      "source": [
        "<a href=\"https://colab.research.google.com/github/sj-onu/Python_own/blob/master/18101043.ipynb\" target=\"_parent\"><img src=\"https://colab.research.google.com/assets/colab-badge.svg\" alt=\"Open In Colab\"/></a>"
      ]
    },
    {
      "cell_type": "markdown",
      "metadata": {
        "id": "vmMSYW7K0CG6",
        "colab_type": "text"
      },
      "source": [
        "[picture](https://drive.google.com/file/d/1H1kHFtMkaYG0RWkJKLvRfJTncAOlyNwh/view?usp=sharing)"
      ]
    },
    {
      "cell_type": "code",
      "metadata": {
        "id": "98Kto8hX0Q_c",
        "colab_type": "code",
        "colab": {
          "base_uri": "https://localhost:8080/",
          "height": 136
        },
        "outputId": "6128ea91-3c8c-4114-9b33-e572151d0abc"
      },
      "source": [
        "\n",
        "#Assignment\n",
        "class Sports:\n",
        "  def __init__(self,name,sport_type,player):\n",
        "    self.name =name\n",
        "    self.sport_type =sport_type\n",
        "    self.player =player\n",
        "  def showinfo(self):\n",
        "      print(self.name,\"Is a \",self.sport_type,\"sport\",\"played by\",self.player,\"player.\")\n",
        "\n",
        "\n",
        "class Indoor(Sports):\n",
        "  def setInGame(self):\n",
        "    print(\"Indoor sport.\")\n",
        "\n",
        "class Ludo(Indoor):\n",
        "  def Ingame(self):\n",
        "    print(\"Ludo is a Indoor sport.\")\n",
        "\n",
        "class Outdoor(Sports):\n",
        "  def setoutGame(self):\n",
        "    print(\"Outdoor sport.\")\n",
        "\n",
        "class Football(Outdoor):\n",
        "  def Outgame(self):\n",
        "    print(\"Football is a Indoor sport.\")\n",
        "\n",
        "class BasketBall(Indoor,Outdoor):\n",
        "  def InOut(self):\n",
        "        print(\"BasketBall is both an indoor and outdoor sport.\")\n",
        "\n",
        "\n",
        "\n",
        "ID=Ludo(\"Ludo\",\"Indoor\",\"4\",)\n",
        "OD=Football(\"Football\",\"Outdoor\",\"11\",)\n",
        "INOUT=BasketBall(\"Basketball\", \"both indoor and outdoor\", 4)\n",
        "ID.showinfo()\n",
        "OD.showinfo()\n",
        "INOUT.showinfo()\n",
        "ID.setInGame()\n",
        "ID.Ingame()\n",
        "OD.Outgame\n",
        "OD.setoutGame()\n",
        "INOUT.InOut()"
      ],
      "execution_count": 4,
      "outputs": [
        {
          "output_type": "stream",
          "text": [
            "Ludo Is a  Indoor sport played by 4 player.\n",
            "Football Is a  Outdoor sport played by 11 player.\n",
            "Basketball Is a  both indoor and outdoor sport played by 4 player.\n",
            "Indoor sport.\n",
            "Ludo is a Indoor sport.\n",
            "Outdoor sport.\n",
            "BasketBall is both an indoor and outdoor sport.\n"
          ],
          "name": "stdout"
        }
      ]
    }
  ]
}
