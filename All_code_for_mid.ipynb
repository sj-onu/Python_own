{
  "nbformat": 4,
  "nbformat_minor": 0,
  "metadata": {
    "colab": {
      "name": "All code for mid.ipynb",
      "provenance": [],
      "authorship_tag": "ABX9TyO6x2rHvUWXOOOyw/nm0LXl",
      "include_colab_link": true
    },
    "kernelspec": {
      "name": "python3",
      "display_name": "Python 3"
    }
  },
  "cells": [
    {
      "cell_type": "markdown",
      "metadata": {
        "id": "view-in-github",
        "colab_type": "text"
      },
      "source": [
        "<a href=\"https://colab.research.google.com/github/sj-onu/Python_own/blob/master/All_code_for_mid.ipynb\" target=\"_parent\"><img src=\"https://colab.research.google.com/assets/colab-badge.svg\" alt=\"Open In Colab\"/></a>"
      ]
    },
    {
      "cell_type": "code",
      "metadata": {
        "id": "GvBWvYOWtk0w",
        "colab_type": "code",
        "colab": {
          "base_uri": "https://localhost:8080/",
          "height": 34
        },
        "outputId": "bad6c5ea-33f9-40d0-9533-f701939be39e"
      },
      "source": [
        "print(\"Hello World\")"
      ],
      "execution_count": null,
      "outputs": [
        {
          "output_type": "stream",
          "text": [
            "Hello World\n"
          ],
          "name": "stdout"
        }
      ]
    },
    {
      "cell_type": "code",
      "metadata": {
        "id": "wNDv_10LuC1X",
        "colab_type": "code",
        "colab": {
          "base_uri": "https://localhost:8080/",
          "height": 51
        },
        "outputId": "3deaf2bc-ae1c-48ea-eb95-adab2b65541f"
      },
      "source": [
        "a = input()\n",
        "type(a)"
      ],
      "execution_count": 68,
      "outputs": [
        {
          "output_type": "stream",
          "text": [
            "ndsjkfnj\n"
          ],
          "name": "stdout"
        },
        {
          "output_type": "execute_result",
          "data": {
            "text/plain": [
              "str"
            ]
          },
          "metadata": {
            "tags": []
          },
          "execution_count": 68
        }
      ]
    },
    {
      "cell_type": "code",
      "metadata": {
        "id": "uLXaK9jruaxY",
        "colab_type": "code",
        "colab": {
          "base_uri": "https://localhost:8080/",
          "height": 34
        },
        "outputId": "bf5185cf-da32-4e95-9ced-9684efaa6507"
      },
      "source": [
        "var_1 = 10\n",
        "type(var_1)"
      ],
      "execution_count": null,
      "outputs": [
        {
          "output_type": "execute_result",
          "data": {
            "text/plain": [
              "int"
            ]
          },
          "metadata": {
            "tags": []
          },
          "execution_count": 5
        }
      ]
    },
    {
      "cell_type": "code",
      "metadata": {
        "id": "EKpeJCtcudXv",
        "colab_type": "code",
        "colab": {
          "base_uri": "https://localhost:8080/",
          "height": 34
        },
        "outputId": "94d4096b-9cda-4c5c-ecf4-d67c9388d65f"
      },
      "source": [
        "var_1 = 10.56\n",
        "type(var_1)"
      ],
      "execution_count": null,
      "outputs": [
        {
          "output_type": "execute_result",
          "data": {
            "text/plain": [
              "float"
            ]
          },
          "metadata": {
            "tags": []
          },
          "execution_count": 6
        }
      ]
    },
    {
      "cell_type": "code",
      "metadata": {
        "id": "TC1AfIMtu-P_",
        "colab_type": "code",
        "colab": {
          "base_uri": "https://localhost:8080/",
          "height": 34
        },
        "outputId": "90d91340-88b9-4f83-e80e-f150009befea"
      },
      "source": [
        "var_3 = \"CSE309\"\n",
        "type(var_3)"
      ],
      "execution_count": null,
      "outputs": [
        {
          "output_type": "execute_result",
          "data": {
            "text/plain": [
              "str"
            ]
          },
          "metadata": {
            "tags": []
          },
          "execution_count": 7
        }
      ]
    },
    {
      "cell_type": "code",
      "metadata": {
        "id": "tmxSOIKKvA6r",
        "colab_type": "code",
        "colab": {
          "base_uri": "https://localhost:8080/",
          "height": 34
        },
        "outputId": "be5b5d4b-b1d8-45ce-cd41-64f70e2dbac9"
      },
      "source": [
        "var_4=5\n",
        "type(var_4)"
      ],
      "execution_count": null,
      "outputs": [
        {
          "output_type": "execute_result",
          "data": {
            "text/plain": [
              "int"
            ]
          },
          "metadata": {
            "tags": []
          },
          "execution_count": 11
        }
      ]
    },
    {
      "cell_type": "code",
      "metadata": {
        "id": "tDBS4dOkv_sK",
        "colab_type": "code",
        "colab": {
          "base_uri": "https://localhost:8080/",
          "height": 34
        },
        "outputId": "8d1ffeb0-ab50-4d37-e4cc-5f78a84b0c28"
      },
      "source": [
        "x = 10\n",
        "print(x)"
      ],
      "execution_count": null,
      "outputs": [
        {
          "output_type": "stream",
          "text": [
            "10\n"
          ],
          "name": "stdout"
        }
      ]
    },
    {
      "cell_type": "code",
      "metadata": {
        "id": "PCECKp2nxAAv",
        "colab_type": "code",
        "colab": {
          "base_uri": "https://localhost:8080/",
          "height": 34
        },
        "outputId": "752aa4a8-8725-4a68-da61-ce220320fc8d"
      },
      "source": [
        "a=50\n",
        "a=60\n",
        "print(a)"
      ],
      "execution_count": null,
      "outputs": [
        {
          "output_type": "stream",
          "text": [
            "60\n"
          ],
          "name": "stdout"
        }
      ]
    },
    {
      "cell_type": "code",
      "metadata": {
        "id": "BsGOuds1wusZ",
        "colab_type": "code",
        "colab": {
          "base_uri": "https://localhost:8080/",
          "height": 34
        },
        "outputId": "e3d2fb7c-df9c-49fa-c217-396efce33563"
      },
      "source": [
        "var4 = 50\n",
        "print(x)"
      ],
      "execution_count": null,
      "outputs": [
        {
          "output_type": "stream",
          "text": [
            "10\n"
          ],
          "name": "stdout"
        }
      ]
    },
    {
      "cell_type": "code",
      "metadata": {
        "id": "z7K6_CFi7oi3",
        "colab_type": "code",
        "colab": {}
      },
      "source": [
        "var_4 = 50"
      ],
      "execution_count": null,
      "outputs": []
    },
    {
      "cell_type": "code",
      "metadata": {
        "id": "Ymn3QCtKyFXq",
        "colab_type": "code",
        "colab": {
          "base_uri": "https://localhost:8080/",
          "height": 87
        },
        "outputId": "d7f00c39-e85d-4579-8454-49cf599118dd"
      },
      "source": [
        "# Take two interger inputs and add them. (correct example)\n",
        "\n",
        "a = int( input() )\n",
        "b = int( input() )\n",
        "\n",
        "sum = a + b\n",
        "\n",
        "print(sum)\n",
        "1\n",
        "2"
      ],
      "execution_count": null,
      "outputs": [
        {
          "output_type": "stream",
          "text": [
            "12\n",
            "34\n",
            "46\n"
          ],
          "name": "stdout"
        },
        {
          "output_type": "execute_result",
          "data": {
            "text/plain": [
              "2"
            ]
          },
          "metadata": {
            "tags": []
          },
          "execution_count": 21
        }
      ]
    },
    {
      "cell_type": "code",
      "metadata": {
        "id": "5TsGSfA0yN7t",
        "colab_type": "code",
        "colab": {
          "base_uri": "https://localhost:8080/",
          "height": 70
        },
        "outputId": "a2bf3252-0805-4ce1-8bbc-829b4c38fa59"
      },
      "source": [
        "# Take two interger inputs and add them. (correct example)\n",
        "\n",
        "a = int( input() )\n",
        "b = int( input() )\n",
        "\n",
        "sum = a - b\n",
        "\n",
        "print(sum)\n"
      ],
      "execution_count": null,
      "outputs": [
        {
          "output_type": "stream",
          "text": [
            "23\n",
            "21\n",
            "2\n"
          ],
          "name": "stdout"
        }
      ]
    },
    {
      "cell_type": "code",
      "metadata": {
        "id": "e0xkWohM49d0",
        "colab_type": "code",
        "colab": {
          "base_uri": "https://localhost:8080/",
          "height": 34
        },
        "outputId": "4cb4647e-0153-4acb-a0c2-9f1e0f5542b4"
      },
      "source": [
        "s1 = \"This\"\n",
        "s2 = ' is a cat'\n",
        "print(s1, s2)"
      ],
      "execution_count": 69,
      "outputs": [
        {
          "output_type": "stream",
          "text": [
            "This  is a cat\n"
          ],
          "name": "stdout"
        }
      ]
    },
    {
      "cell_type": "code",
      "metadata": {
        "id": "u89DDvHn5GCR",
        "colab_type": "code",
        "colab": {
          "base_uri": "https://localhost:8080/",
          "height": 34
        },
        "outputId": "e577725c-324e-450a-edf2-6182c358e979"
      },
      "source": [
        "s3=s1+s2\n",
        "print(s3)\n"
      ],
      "execution_count": null,
      "outputs": [
        {
          "output_type": "stream",
          "text": [
            "This is a cat\n"
          ],
          "name": "stdout"
        }
      ]
    },
    {
      "cell_type": "code",
      "metadata": {
        "id": "veazL4eX6QXk",
        "colab_type": "code",
        "colab": {
          "base_uri": "https://localhost:8080/",
          "height": 52
        },
        "outputId": "f8034098-a82c-4554-e77a-d9c5f9b10763"
      },
      "source": [
        "# square\n",
        "a = int( input(\"Input 1: \") )\n",
        "square = a**2\n",
        "print('square: ', square)"
      ],
      "execution_count": null,
      "outputs": [
        {
          "output_type": "stream",
          "text": [
            "Input 1: 5\n",
            "square:  25\n"
          ],
          "name": "stdout"
        }
      ]
    },
    {
      "cell_type": "code",
      "metadata": {
        "id": "-hITq6hw6hpK",
        "colab_type": "code",
        "colab": {
          "base_uri": "https://localhost:8080/",
          "height": 34
        },
        "outputId": "c87c7e7e-eb51-4256-cb65-25c12832bac5"
      },
      "source": [
        "5+5"
      ],
      "execution_count": null,
      "outputs": [
        {
          "output_type": "execute_result",
          "data": {
            "text/plain": [
              "10"
            ]
          },
          "metadata": {
            "tags": []
          },
          "execution_count": 29
        }
      ]
    },
    {
      "cell_type": "code",
      "metadata": {
        "id": "WL6fKCG16l1G",
        "colab_type": "code",
        "colab": {
          "base_uri": "https://localhost:8080/",
          "height": 34
        },
        "outputId": "38667fc9-1bb6-45f6-bfd5-73c78640157f"
      },
      "source": [
        "4+10-3"
      ],
      "execution_count": null,
      "outputs": [
        {
          "output_type": "execute_result",
          "data": {
            "text/plain": [
              "11"
            ]
          },
          "metadata": {
            "tags": []
          },
          "execution_count": 30
        }
      ]
    },
    {
      "cell_type": "code",
      "metadata": {
        "id": "uSBydL2d6sDd",
        "colab_type": "code",
        "colab": {
          "base_uri": "https://localhost:8080/",
          "height": 34
        },
        "outputId": "0a225338-75d9-4733-cbd6-b57520fec91c"
      },
      "source": [
        "8/2"
      ],
      "execution_count": null,
      "outputs": [
        {
          "output_type": "execute_result",
          "data": {
            "text/plain": [
              "4.0"
            ]
          },
          "metadata": {
            "tags": []
          },
          "execution_count": 31
        }
      ]
    },
    {
      "cell_type": "code",
      "metadata": {
        "id": "vC-DeHNY60Wv",
        "colab_type": "code",
        "colab": {
          "base_uri": "https://localhost:8080/",
          "height": 34
        },
        "outputId": "8bf2c9a9-d4fe-46cd-a85a-3779131bb7c0"
      },
      "source": [
        "78/5"
      ],
      "execution_count": null,
      "outputs": [
        {
          "output_type": "execute_result",
          "data": {
            "text/plain": [
              "15.6"
            ]
          },
          "metadata": {
            "tags": []
          },
          "execution_count": 33
        }
      ]
    },
    {
      "cell_type": "code",
      "metadata": {
        "id": "8izMVCwy7HA-",
        "colab_type": "code",
        "colab": {}
      },
      "source": [
        "round(10.4658461)"
      ],
      "execution_count": null,
      "outputs": []
    },
    {
      "cell_type": "code",
      "metadata": {
        "id": "-7Lt-Dti8ZV_",
        "colab_type": "code",
        "colab": {}
      },
      "source": [
        "kingCommand = 'The king said \"Bring the man\"'\n",
        "print(kingCommand, type(kingCommand))"
      ],
      "execution_count": null,
      "outputs": []
    },
    {
      "cell_type": "code",
      "metadata": {
        "id": "ATs_rSHb-Y8q",
        "colab_type": "code",
        "colab": {
          "base_uri": "https://localhost:8080/",
          "height": 34
        },
        "outputId": "a1b57856-78af-4989-df0b-579e33536c14"
      },
      "source": [
        "x = \"Python!\"\n",
        "len(x)"
      ],
      "execution_count": 33,
      "outputs": [
        {
          "output_type": "execute_result",
          "data": {
            "text/plain": [
              "7"
            ]
          },
          "metadata": {
            "tags": []
          },
          "execution_count": 33
        }
      ]
    },
    {
      "cell_type": "code",
      "metadata": {
        "id": "nPq2sTt-14dC",
        "colab_type": "code",
        "colab": {
          "base_uri": "https://localhost:8080/",
          "height": 35
        },
        "outputId": "b82167b6-2347-4413-fbcc-a6a4fcbcc390"
      },
      "source": [
        "x[ : ]"
      ],
      "execution_count": 34,
      "outputs": [
        {
          "output_type": "execute_result",
          "data": {
            "application/vnd.google.colaboratory.intrinsic+json": {
              "type": "string"
            },
            "text/plain": [
              "'Python!'"
            ]
          },
          "metadata": {
            "tags": []
          },
          "execution_count": 34
        }
      ]
    },
    {
      "cell_type": "code",
      "metadata": {
        "id": "YUuT55tK2Dhj",
        "colab_type": "code",
        "colab": {
          "base_uri": "https://localhost:8080/",
          "height": 35
        },
        "outputId": "40eba85e-ed05-40c9-fe10-78888aa9c8a2"
      },
      "source": [
        "x[-3:]"
      ],
      "execution_count": null,
      "outputs": [
        {
          "output_type": "execute_result",
          "data": {
            "application/vnd.google.colaboratory.intrinsic+json": {
              "type": "string"
            },
            "text/plain": [
              "'on!'"
            ]
          },
          "metadata": {
            "tags": []
          },
          "execution_count": 3
        }
      ]
    },
    {
      "cell_type": "code",
      "metadata": {
        "id": "g4Mghezm_49W",
        "colab_type": "code",
        "colab": {
          "base_uri": "https://localhost:8080/",
          "height": 35
        },
        "outputId": "d8f2e9da-3b72-4329-f9fc-04df7411fa49"
      },
      "source": [
        "x[:-3]"
      ],
      "execution_count": null,
      "outputs": [
        {
          "output_type": "execute_result",
          "data": {
            "application/vnd.google.colaboratory.intrinsic+json": {
              "type": "string"
            },
            "text/plain": [
              "'Pyth'"
            ]
          },
          "metadata": {
            "tags": []
          },
          "execution_count": 22
        }
      ]
    },
    {
      "cell_type": "code",
      "metadata": {
        "id": "g3ls2seJ_7NA",
        "colab_type": "code",
        "colab": {
          "base_uri": "https://localhost:8080/",
          "height": 35
        },
        "outputId": "3f292c50-17b1-4b05-fa5d-271bfe79e06d"
      },
      "source": [
        "x[-3]"
      ],
      "execution_count": null,
      "outputs": [
        {
          "output_type": "execute_result",
          "data": {
            "application/vnd.google.colaboratory.intrinsic+json": {
              "type": "string"
            },
            "text/plain": [
              "'o'"
            ]
          },
          "metadata": {
            "tags": []
          },
          "execution_count": 23
        }
      ]
    },
    {
      "cell_type": "code",
      "metadata": {
        "id": "4kCJYsv-ACqj",
        "colab_type": "code",
        "colab": {
          "base_uri": "https://localhost:8080/",
          "height": 163
        },
        "outputId": "5d59c1a1-7e26-4572-e5d4-ae86c6c2bcae"
      },
      "source": [
        "x[-30]"
      ],
      "execution_count": null,
      "outputs": [
        {
          "output_type": "error",
          "ename": "IndexError",
          "evalue": "ignored",
          "traceback": [
            "\u001b[0;31m---------------------------------------------------------------------------\u001b[0m",
            "\u001b[0;31mIndexError\u001b[0m                                Traceback (most recent call last)",
            "\u001b[0;32m<ipython-input-24-59b4a1ab276d>\u001b[0m in \u001b[0;36m<module>\u001b[0;34m()\u001b[0m\n\u001b[0;32m----> 1\u001b[0;31m \u001b[0mx\u001b[0m\u001b[0;34m[\u001b[0m\u001b[0;34m-\u001b[0m\u001b[0;36m30\u001b[0m\u001b[0;34m]\u001b[0m\u001b[0;34m\u001b[0m\u001b[0;34m\u001b[0m\u001b[0m\n\u001b[0m",
            "\u001b[0;31mIndexError\u001b[0m: string index out of range"
          ]
        }
      ]
    },
    {
      "cell_type": "code",
      "metadata": {
        "id": "tlWDY7ukAnEX",
        "colab_type": "code",
        "colab": {
          "base_uri": "https://localhost:8080/",
          "height": 35
        },
        "outputId": "b03860cf-db8a-4986-ff47-cfc5c16aadd7"
      },
      "source": [
        "x[-30:]"
      ],
      "execution_count": null,
      "outputs": [
        {
          "output_type": "execute_result",
          "data": {
            "application/vnd.google.colaboratory.intrinsic+json": {
              "type": "string"
            },
            "text/plain": [
              "'Python!'"
            ]
          },
          "metadata": {
            "tags": []
          },
          "execution_count": 25
        }
      ]
    },
    {
      "cell_type": "code",
      "metadata": {
        "id": "rdFHg9LI2Qu0",
        "colab_type": "code",
        "colab": {
          "base_uri": "https://localhost:8080/",
          "height": 35
        },
        "outputId": "38804ea3-1010-4d2b-b74a-7e2409496a75"
      },
      "source": [
        "x[::-1]"
      ],
      "execution_count": null,
      "outputs": [
        {
          "output_type": "execute_result",
          "data": {
            "application/vnd.google.colaboratory.intrinsic+json": {
              "type": "string"
            },
            "text/plain": [
              "'!nohtyP'"
            ]
          },
          "metadata": {
            "tags": []
          },
          "execution_count": 4
        }
      ]
    },
    {
      "cell_type": "code",
      "metadata": {
        "id": "bnnlyWRX2YoH",
        "colab_type": "code",
        "colab": {
          "base_uri": "https://localhost:8080/",
          "height": 35
        },
        "outputId": "f4407ac0-8f60-425e-f24b-c82e37880580"
      },
      "source": [
        "x[-1:4]"
      ],
      "execution_count": null,
      "outputs": [
        {
          "output_type": "execute_result",
          "data": {
            "application/vnd.google.colaboratory.intrinsic+json": {
              "type": "string"
            },
            "text/plain": [
              "''"
            ]
          },
          "metadata": {
            "tags": []
          },
          "execution_count": 5
        }
      ]
    },
    {
      "cell_type": "code",
      "metadata": {
        "id": "4qGqJlgA2gVT",
        "colab_type": "code",
        "colab": {
          "base_uri": "https://localhost:8080/",
          "height": 163
        },
        "outputId": "b72cd72b-4a58-4754-ec9f-3570494a036e"
      },
      "source": [
        "x[100]"
      ],
      "execution_count": 37,
      "outputs": [
        {
          "output_type": "error",
          "ename": "IndexError",
          "evalue": "ignored",
          "traceback": [
            "\u001b[0;31m---------------------------------------------------------------------------\u001b[0m",
            "\u001b[0;31mIndexError\u001b[0m                                Traceback (most recent call last)",
            "\u001b[0;32m<ipython-input-37-1c48815fc125>\u001b[0m in \u001b[0;36m<module>\u001b[0;34m()\u001b[0m\n\u001b[0;32m----> 1\u001b[0;31m \u001b[0mx\u001b[0m\u001b[0;34m[\u001b[0m\u001b[0;36m100\u001b[0m\u001b[0;34m]\u001b[0m\u001b[0;34m\u001b[0m\u001b[0;34m\u001b[0m\u001b[0m\n\u001b[0m",
            "\u001b[0;31mIndexError\u001b[0m: string index out of range"
          ]
        }
      ]
    },
    {
      "cell_type": "code",
      "metadata": {
        "id": "EVW4wlo42lqg",
        "colab_type": "code",
        "colab": {
          "base_uri": "https://localhost:8080/",
          "height": 35
        },
        "outputId": "83ee4252-75e9-4c33-c5e5-3124eb940930"
      },
      "source": [
        "x[100:]"
      ],
      "execution_count": null,
      "outputs": [
        {
          "output_type": "execute_result",
          "data": {
            "application/vnd.google.colaboratory.intrinsic+json": {
              "type": "string"
            },
            "text/plain": [
              "''"
            ]
          },
          "metadata": {
            "tags": []
          },
          "execution_count": 10
        }
      ]
    },
    {
      "cell_type": "code",
      "metadata": {
        "id": "7azOpuSVI8As",
        "colab_type": "code",
        "colab": {}
      },
      "source": [
        "L = [1, 10, 30, 4, -5]"
      ],
      "execution_count": 39,
      "outputs": []
    },
    {
      "cell_type": "code",
      "metadata": {
        "id": "UHcP8fzlJDJV",
        "colab_type": "code",
        "colab": {
          "base_uri": "https://localhost:8080/",
          "height": 34
        },
        "outputId": "6c9ad9a8-28a2-4bcd-a08e-db79f47d42a0"
      },
      "source": [
        "L[2 : 4 : 2]"
      ],
      "execution_count": 40,
      "outputs": [
        {
          "output_type": "execute_result",
          "data": {
            "text/plain": [
              "[30]"
            ]
          },
          "metadata": {
            "tags": []
          },
          "execution_count": 40
        }
      ]
    },
    {
      "cell_type": "code",
      "metadata": {
        "id": "sJQYok3PEmOs",
        "colab_type": "code",
        "colab": {
          "base_uri": "https://localhost:8080/",
          "height": 34
        },
        "outputId": "c3503a89-9ade-4418-d9aa-e8161c994024"
      },
      "source": [
        "L[1:]"
      ],
      "execution_count": 43,
      "outputs": [
        {
          "output_type": "execute_result",
          "data": {
            "text/plain": [
              "[10, 30, 4, -5]"
            ]
          },
          "metadata": {
            "tags": []
          },
          "execution_count": 43
        }
      ]
    },
    {
      "cell_type": "code",
      "metadata": {
        "id": "U8v0C5PbJK8C",
        "colab_type": "code",
        "colab": {
          "base_uri": "https://localhost:8080/",
          "height": 68
        },
        "outputId": "4ecfe4bc-1154-4ece-a046-89c6da78f1dc"
      },
      "source": [
        "x = int(input())\n",
        "\n",
        "if (x>0) :\n",
        "  print(\"Positive\")\n",
        "  print(\"Very Positive\")\n",
        "else :\n",
        "  print(\"Negative\")"
      ],
      "execution_count": null,
      "outputs": [
        {
          "output_type": "stream",
          "text": [
            "6\n",
            "Positive\n",
            "Very Positive\n"
          ],
          "name": "stdout"
        }
      ]
    },
    {
      "cell_type": "code",
      "metadata": {
        "id": "ZxUHhL3PJ6rF",
        "colab_type": "code",
        "colab": {
          "base_uri": "https://localhost:8080/",
          "height": 129
        },
        "outputId": "c9cb8bef-9ee1-448d-e852-db5c8b911dfe"
      },
      "source": [
        "x = int(input())\n",
        "\n",
        "if (x>0) :\n",
        "  print(\"Positive\")\n",
        "  print(\"Very Positive\")\n",
        "else:\n",
        "print(\"Now this will work fine!\")"
      ],
      "execution_count": null,
      "outputs": [
        {
          "output_type": "error",
          "ename": "IndentationError",
          "evalue": "ignored",
          "traceback": [
            "\u001b[0;36m  File \u001b[0;32m\"<ipython-input-18-dfe3aa7b244e>\"\u001b[0;36m, line \u001b[0;32m7\u001b[0m\n\u001b[0;31m    print(\"Now this will work fine!\")\u001b[0m\n\u001b[0m        ^\u001b[0m\n\u001b[0;31mIndentationError\u001b[0m\u001b[0;31m:\u001b[0m expected an indented block\n"
          ]
        }
      ]
    },
    {
      "cell_type": "code",
      "metadata": {
        "id": "4DMz1wU905UJ",
        "colab_type": "code",
        "colab": {}
      },
      "source": [
        "d = { \n",
        "    \"key\" : \"value\",\n",
        "     \"name\" : \"Tanmoy\",\n",
        "     \"Dept\" : \"CSE\",\n",
        "     10 : \"Lucky number\",\n",
        "     4 : 400\n",
        " }"
      ],
      "execution_count": null,
      "outputs": []
    },
    {
      "cell_type": "code",
      "metadata": {
        "id": "5umHL3ybPxIE",
        "colab_type": "code",
        "colab": {
          "base_uri": "https://localhost:8080/",
          "height": 35
        },
        "outputId": "621f0ffb-2a62-4c4b-87e9-dbc1686c47ae"
      },
      "source": [
        "d[\"key\"]"
      ],
      "execution_count": null,
      "outputs": [
        {
          "output_type": "execute_result",
          "data": {
            "application/vnd.google.colaboratory.intrinsic+json": {
              "type": "string"
            },
            "text/plain": [
              "'value'"
            ]
          },
          "metadata": {
            "tags": []
          },
          "execution_count": 24
        }
      ]
    },
    {
      "cell_type": "code",
      "metadata": {
        "id": "XO6eMHl3QJ7d",
        "colab_type": "code",
        "colab": {
          "base_uri": "https://localhost:8080/",
          "height": 34
        },
        "outputId": "57ce6c80-dc9c-4b70-986b-3001b17dfd19"
      },
      "source": [
        "d"
      ],
      "execution_count": null,
      "outputs": [
        {
          "output_type": "execute_result",
          "data": {
            "text/plain": [
              "{10: 'Lucky number', 4: 400, 'Dept': 'CSE', 'key': 'value', 'name': 'Tanmoy'}"
            ]
          },
          "metadata": {
            "tags": []
          },
          "execution_count": 25
        }
      ]
    },
    {
      "cell_type": "code",
      "metadata": {
        "id": "fUxSB0kHpL4l",
        "colab_type": "code",
        "colab": {
          "base_uri": "https://localhost:8080/",
          "height": 357
        },
        "outputId": "8484e31d-791e-4e23-f584-83f576897f9e"
      },
      "source": [
        "i = 0\n",
        "while (i<20) :\n",
        "  print(i)\n",
        "  i = i + 1"
      ],
      "execution_count": null,
      "outputs": [
        {
          "output_type": "stream",
          "text": [
            "0\n",
            "1\n",
            "2\n",
            "3\n",
            "4\n",
            "5\n",
            "6\n",
            "7\n",
            "8\n",
            "9\n",
            "10\n",
            "11\n",
            "12\n",
            "13\n",
            "14\n",
            "15\n",
            "16\n",
            "17\n",
            "18\n",
            "19\n"
          ],
          "name": "stdout"
        }
      ]
    },
    {
      "cell_type": "code",
      "metadata": {
        "id": "ESs6gFsEnT2L",
        "colab_type": "code",
        "colab": {
          "base_uri": "https://localhost:8080/",
          "height": 34
        },
        "outputId": "64280f23-d6ff-4ce1-937f-44cc05555b36"
      },
      "source": [
        "i=15\n",
        "sum = 0\n",
        "while i<15 :\n",
        "  if(i ==15):\n",
        "    print(i, end=' ')\n",
        "  else:\n",
        "    print(i, \"+\" , end=' ')\n",
        "  sum = sum + i\n",
        "  i += 1\n",
        "print(\"=\", sum)"
      ],
      "execution_count": null,
      "outputs": [
        {
          "output_type": "stream",
          "text": [
            "= 0\n"
          ],
          "name": "stdout"
        }
      ]
    },
    {
      "cell_type": "code",
      "metadata": {
        "id": "J1xltkiARuX5",
        "colab_type": "code",
        "colab": {
          "base_uri": "https://localhost:8080/",
          "height": 68
        },
        "outputId": "8002f314-1590-440e-b171-2fd1c62a441e"
      },
      "source": [
        "start = int(input(\"Start: \"))\n",
        "end_p = int(input(\"End: \"))\n",
        "\n",
        "sum = 0\n",
        "i=start\n",
        "\n",
        "while i<end_p+1 :\n",
        "  if(i == end_p):\n",
        "    print(i, end=' ')\n",
        "  else:\n",
        "    print(i, \"+\" , end=' ')\n",
        "  sum = sum + i\n",
        "  i += 1\n",
        "print(\"=\", sum)"
      ],
      "execution_count": null,
      "outputs": [
        {
          "output_type": "stream",
          "text": [
            "Start: 5\n",
            "End: 8\n",
            "5 + 6 + 7 + 8 = 26\n"
          ],
          "name": "stdout"
        }
      ]
    },
    {
      "cell_type": "code",
      "metadata": {
        "id": "e15Tt27-aCuG",
        "colab_type": "code",
        "colab": {}
      },
      "source": [
        "L = [1, 2, 3, 4, 5, 10, 20]"
      ],
      "execution_count": null,
      "outputs": []
    },
    {
      "cell_type": "code",
      "metadata": {
        "id": "--HUDC82aJqe",
        "colab_type": "code",
        "colab": {
          "base_uri": "https://localhost:8080/",
          "height": 34
        },
        "outputId": "31c49f46-25d4-4e61-abba-c9fb7d067003"
      },
      "source": [
        "L[0 : len(L) : 2]  #List[ starting index : ending index+1 : increment ]"
      ],
      "execution_count": null,
      "outputs": [
        {
          "output_type": "execute_result",
          "data": {
            "text/plain": [
              "[1, 3, 5, 20]"
            ]
          },
          "metadata": {
            "tags": []
          },
          "execution_count": 41
        }
      ]
    },
    {
      "cell_type": "code",
      "metadata": {
        "id": "MYxcN_ElaYdE",
        "colab_type": "code",
        "colab": {
          "base_uri": "https://localhost:8080/",
          "height": 34
        },
        "outputId": "78af3a58-92e5-4581-89c8-4b2ce6f02689"
      },
      "source": [
        "#l[start : end + 1: increment]->range\n",
        "l = list( range(1, 10, 2) )\n",
        "l"
      ],
      "execution_count": null,
      "outputs": [
        {
          "output_type": "execute_result",
          "data": {
            "text/plain": [
              "[1, 3, 5, 7, 9]"
            ]
          },
          "metadata": {
            "tags": []
          },
          "execution_count": 44
        }
      ]
    },
    {
      "cell_type": "code",
      "metadata": {
        "id": "5yDMLhiwoLxe",
        "colab_type": "code",
        "colab": {}
      },
      "source": [
        "class Account:\n",
        "  account_number = 0\n",
        "  balance = 0.0\n",
        "\n",
        "  def show_data(self):\n",
        "    # account_number -> just checks the method parameters\n",
        "    # self.account_number -> checks the class parameters\n",
        "    print(self.account_number, \" : \", self.balance)\n",
        "  \n",
        "  def set_balance(self, balance):\n",
        "    # self.balance -> class variable\n",
        "    # balance -> method parameter\n",
        "    self.balance = balance"
      ],
      "execution_count": null,
      "outputs": []
    },
    {
      "cell_type": "code",
      "metadata": {
        "id": "KyoN3phZoRHg",
        "colab_type": "code",
        "colab": {
          "base_uri": "https://localhost:8080/",
          "height": 34
        },
        "outputId": "90f37a03-8622-4e62-d748-62ee2d635316"
      },
      "source": [
        "a=Account()\n",
        "a.account_number=1000\n",
        "a.show_data()"
      ],
      "execution_count": null,
      "outputs": [
        {
          "output_type": "stream",
          "text": [
            "1000  :  0.0\n"
          ],
          "name": "stdout"
        }
      ]
    },
    {
      "cell_type": "code",
      "metadata": {
        "id": "P4UJz9MKpaeJ",
        "colab_type": "code",
        "colab": {
          "base_uri": "https://localhost:8080/",
          "height": 34
        },
        "outputId": "75b12dc2-dff7-4ceb-8ca6-54e39e20c0b9"
      },
      "source": [
        "class Account2:\n",
        "  account_number = 0 # public attribute\n",
        "  __balance = 50.0 # Private attribute\n",
        "\n",
        "  def show_data(self):\n",
        "    # account_number -> just checks the method parameters\n",
        "    # self.account_number -> checks the class parameters\n",
        "    print(self.account_number, \" : \", self.__balance)\n",
        "   \n",
        "   \n",
        " \n",
        "  def add_balance(self, balance):\n",
        "    # self.balance -> class variable\n",
        "    # balance -> method parameter\n",
        "    self.__balance += balance\n",
        "\n",
        "A=Account2()\n",
        "\n",
        "A.show_data()\n",
        "A.add_balance(20)"
      ],
      "execution_count": null,
      "outputs": [
        {
          "output_type": "stream",
          "text": [
            "0  :  50.0\n"
          ],
          "name": "stdout"
        }
      ]
    },
    {
      "cell_type": "code",
      "metadata": {
        "id": "JQbodAO9p9bK",
        "colab_type": "code",
        "colab": {
          "base_uri": "https://localhost:8080/",
          "height": 34
        },
        "outputId": "c354008e-45b4-4441-9cf6-cabf64738cca"
      },
      "source": [
        "A.show_data()"
      ],
      "execution_count": null,
      "outputs": [
        {
          "output_type": "stream",
          "text": [
            "0  :  70.0\n"
          ],
          "name": "stdout"
        }
      ]
    },
    {
      "cell_type": "code",
      "metadata": {
        "id": "HYtEcFS2p47m",
        "colab_type": "code",
        "colab": {}
      },
      "source": [
        "A.add_balance(20)"
      ],
      "execution_count": null,
      "outputs": []
    },
    {
      "cell_type": "code",
      "metadata": {
        "id": "0iYGzV0Wq8si",
        "colab_type": "code",
        "colab": {
          "base_uri": "https://localhost:8080/",
          "height": 51
        },
        "outputId": "70ef2fb4-6f4e-4eae-d68a-72197498aa0d"
      },
      "source": [
        "class Account3:\n",
        "\n",
        "  def __init__(self, account_number, balance): # This is the constructor\n",
        "    self.account_number = account_number\n",
        "    self.__balance = balance\n",
        "\n",
        "  def show_data(self):\n",
        "    # account_number -> just checks the method parameters\n",
        "    # self.account_number -> checks the class parameters\n",
        "    print(self.account_number, \" : \", self.__balance)\n",
        "  \n",
        "  def add_balance(self, balance):\n",
        "    # self.balance -> class variable\n",
        "    # balance -> method parameter\n",
        "    self.__balance += balance\n",
        "\n",
        "A=Account3(1000,34)\n",
        "\n",
        "A.show_data()\n",
        "A.add_balance(20)\n",
        "A.show_data()"
      ],
      "execution_count": null,
      "outputs": [
        {
          "output_type": "stream",
          "text": [
            "1000  :  34\n",
            "1000  :  54\n"
          ],
          "name": "stdout"
        }
      ]
    },
    {
      "cell_type": "code",
      "metadata": {
        "id": "0eXCBlSori4y",
        "colab_type": "code",
        "colab": {}
      },
      "source": [
        "class Shopping_Complex:\n",
        "\n",
        "  def __init__(self, name, location, owner):\n",
        "    self.name = name\n",
        "    self.location = location\n",
        "    self.owner = owner\n",
        "\n",
        "  def set_shops(self, n):\n",
        "    self.number_of_shops = n\n",
        "  \n",
        "  def open_or_close(self, day):\n",
        "    if(day == \"Sunday\"):\n",
        "      print(\"Closed!\")\n",
        "    else:\n",
        "      print(\"Welcome. We are open!\")\n",
        "    \n",
        "  def show_info(self):\n",
        "    print(\"Name: \", self.name)\n",
        "    print(\"Owner: \", self.owner)\n",
        "    print(\"Location: \", self.location)\n",
        "    print(\"Shops count:\", self.number_of_shops)"
      ],
      "execution_count": null,
      "outputs": []
    },
    {
      "cell_type": "code",
      "metadata": {
        "id": "fEnJpnp8rq6j",
        "colab_type": "code",
        "colab": {
          "base_uri": "https://localhost:8080/",
          "height": 102
        },
        "outputId": "dd46eb78-ccff-4172-a4b2-f5648d150e04"
      },
      "source": [
        "s=Shopping_Complex(\"BC\",\"Dhaka\",\"onu\")\n",
        "s.set_shops(5)\n",
        "s.show_info()\n",
        "s.open_or_close(\"Friday\")"
      ],
      "execution_count": null,
      "outputs": [
        {
          "output_type": "stream",
          "text": [
            "Name:  BC\n",
            "Owner:  onu\n",
            "Location:  Dhaka\n",
            "Shops count: 5\n",
            "Welcome. We are open!\n"
          ],
          "name": "stdout"
        }
      ]
    },
    {
      "cell_type": "code",
      "metadata": {
        "id": "vQZMBGW8uvHC",
        "colab_type": "code",
        "colab": {}
      },
      "source": [
        "class CEO:\n",
        "  def __init__(self, name, age):\n",
        "    self.name = name\n",
        "    self.age = age\n",
        "  \n",
        "  def show_info(self):\n",
        "    print(\"CEO Name:\", self.name)\n",
        "    print(\"CEO Age:\", self.age)"
      ],
      "execution_count": null,
      "outputs": []
    },
    {
      "cell_type": "code",
      "metadata": {
        "id": "jU-TM32SvGAm",
        "colab_type": "code",
        "colab": {}
      },
      "source": [
        "mim = CEO(\"Mim\", 60)"
      ],
      "execution_count": null,
      "outputs": []
    },
    {
      "cell_type": "code",
      "metadata": {
        "id": "bWnUhkOyuwkI",
        "colab_type": "code",
        "colab": {}
      },
      "source": [
        "s.CEO=mim"
      ],
      "execution_count": null,
      "outputs": []
    },
    {
      "cell_type": "code",
      "metadata": {
        "id": "iN9-ulEqu7Vs",
        "colab_type": "code",
        "colab": {
          "base_uri": "https://localhost:8080/",
          "height": 51
        },
        "outputId": "5478cc41-8061-41a2-9396-7b26d72343a9"
      },
      "source": [
        "s.CEO.show_info()"
      ],
      "execution_count": null,
      "outputs": [
        {
          "output_type": "stream",
          "text": [
            "CEO Name: Mim\n",
            "CEO Age: 60\n"
          ],
          "name": "stdout"
        }
      ]
    },
    {
      "cell_type": "code",
      "metadata": {
        "id": "gqmxpt92w3Yq",
        "colab_type": "code",
        "colab": {}
      },
      "source": [
        "class Mobile:\n",
        "\n",
        "  def __init__(self, IMEI):\n",
        "    self.IMEI = IMEI\n",
        "  \n",
        "  def call(self, contact_number):\n",
        "    print(\"Calling ... \" , contact_number)\n",
        "  \n",
        "  def text(self, contact_number, mgs):\n",
        "    print(\"Sending message to\", contact_number, mgs)\n",
        "\n",
        "class SamsungMobile(Mobile):\n",
        "  def set_logo(self):\n",
        "    print(\"Samsung logo is set\")\n",
        "\n",
        "class SamsungA50(SamsungMobile):\n",
        "  def set_model(self):\n",
        "    print(\"Sansumg A50 is set\")"
      ],
      "execution_count": 30,
      "outputs": []
    },
    {
      "cell_type": "code",
      "metadata": {
        "id": "xt4JxiRWxE6D",
        "colab_type": "code",
        "colab": {
          "base_uri": "https://localhost:8080/",
          "height": 34
        },
        "outputId": "9213ab51-4c91-4286-a0bf-9aeac6d81eba"
      },
      "source": [
        "m=Mobile(\"01034937277\")\n",
        "m.text(\"01625621787\",\"Is busy now.\")"
      ],
      "execution_count": 31,
      "outputs": [
        {
          "output_type": "stream",
          "text": [
            "Sending message to 01625621787 Is busy now.\n"
          ],
          "name": "stdout"
        }
      ]
    },
    {
      "cell_type": "code",
      "metadata": {
        "id": "zqAdWQW0x3Gx",
        "colab_type": "code",
        "colab": {}
      },
      "source": [
        "Kasfia_mobile = SamsungA50(\"0845546dsfjnsdfkmdsf5412\")"
      ],
      "execution_count": null,
      "outputs": []
    },
    {
      "cell_type": "code",
      "metadata": {
        "id": "gIe5DN6fx8gF",
        "colab_type": "code",
        "colab": {
          "base_uri": "https://localhost:8080/",
          "height": 34
        },
        "outputId": "337bb8a0-419c-44c5-d3be-be9ad5fc66e3"
      },
      "source": [
        "Kasfia_mobile.set_model()"
      ],
      "execution_count": null,
      "outputs": [
        {
          "output_type": "stream",
          "text": [
            "Sansumg A50 is set\n"
          ],
          "name": "stdout"
        }
      ]
    },
    {
      "cell_type": "code",
      "metadata": {
        "id": "IuigGhvp4hvn",
        "colab_type": "code",
        "colab": {}
      },
      "source": [
        "def isprime(a,b):\n",
        "  if(a<2):\n",
        "    return False\n",
        "    for i in range(a,b):\n",
        "      if(a%i==0):\n",
        "          return a\n",
        "\n",
        "    print(\" %d\" %Number, end = '  ')"
      ],
      "execution_count": 17,
      "outputs": []
    },
    {
      "cell_type": "code",
      "metadata": {
        "id": "UBX9WtnK-GZE",
        "colab_type": "code",
        "colab": {
          "base_uri": "https://localhost:8080/",
          "height": 68
        },
        "outputId": "bfe70963-1474-4d0f-fd3a-1be5681d959b"
      },
      "source": [
        "start = int(input(\"Start: \"))\n",
        "end_p = int(input(\"End: \"))\n",
        "\n",
        "sum = 0\n",
        "i=start\n",
        "\n",
        "while i<end_p+1 :\n",
        "  if i**2 :\n",
        "    \n",
        "    if(i == end_p):\n",
        "      print(i, end=' ')\n",
        "    else:\n",
        "      print(i**2, \"+\" , end=' ')\n",
        "    \n",
        "    sum = sum + i*i\n",
        "\n",
        "  i += 1\n",
        "print(\"=\", sum)"
      ],
      "execution_count": 25,
      "outputs": [
        {
          "output_type": "stream",
          "text": [
            "Start: 1\n",
            "End: 12\n",
            "1 + 4 + 9 + 16 + 25 + 36 + 49 + 64 + 81 + 100 + 121 + 12 = 650\n"
          ],
          "name": "stdout"
        }
      ]
    },
    {
      "cell_type": "code",
      "metadata": {
        "id": "JfBKoUxQ2WfK",
        "colab_type": "code",
        "colab": {
          "base_uri": "https://localhost:8080/",
          "height": 68
        },
        "outputId": "c11b09cd-4a3d-41fd-c842-5d7322797fe5"
      },
      "source": [
        "a=int(input())\n",
        "b=int(input())\n",
        "for Number in range (a, b):\n",
        "    count = 0\n",
        "    for i in range(2, (Number//2 + 1)):\n",
        "        if(Number % i == 0):\n",
        "            count = count + 1\n",
        "            break\n",
        "\n",
        "    if (count == 0 and Number != 1):\n",
        "        print(\" %d\" %Number, end = '  ')"
      ],
      "execution_count": 26,
      "outputs": [
        {
          "output_type": "stream",
          "text": [
            "1\n",
            "12\n",
            " 2   3   5   7   11  "
          ],
          "name": "stdout"
        }
      ]
    },
    {
      "cell_type": "code",
      "metadata": {
        "id": "lz32EN2HNS62",
        "colab_type": "code",
        "colab": {}
      },
      "source": [
        ""
      ],
      "execution_count": null,
      "outputs": []
    },
    {
      "cell_type": "code",
      "metadata": {
        "id": "2qALRO_k9uhz",
        "colab_type": "code",
        "colab": {
          "base_uri": "https://localhost:8080/",
          "height": 187
        },
        "outputId": "c21e4f76-dcb8-480b-dd42-f18d4e741dc0"
      },
      "source": [
        "def pattern(n):\n",
        "      k = 2 * n - 2\n",
        "      for i in range(0,n):\n",
        "           for j in range(0,k):\n",
        "               print(end=\" \")\n",
        "           k = k - 1\n",
        "           for j in range(0, i+1):\n",
        "                print(\"*\", end=\" \")\n",
        "           print(\"\\n\")\n",
        " \n",
        "pattern(5)"
      ],
      "execution_count": 27,
      "outputs": [
        {
          "output_type": "stream",
          "text": [
            "        * \n",
            "\n",
            "       * * \n",
            "\n",
            "      * * * \n",
            "\n",
            "     * * * * \n",
            "\n",
            "    * * * * * \n",
            "\n"
          ],
          "name": "stdout"
        }
      ]
    },
    {
      "cell_type": "code",
      "metadata": {
        "id": "d24820ljBGtN",
        "colab_type": "code",
        "colab": {
          "base_uri": "https://localhost:8080/",
          "height": 102
        },
        "outputId": "ba13dbed-0637-4846-d10b-bfefc398ec16"
      },
      "source": [
        "def pattern(n):\n",
        "     for i in range(0,n):\n",
        "         for j in range(0, i+1):\n",
        "              print(\"* \" , end=\"\")\n",
        "         print(\"\\r\")\n",
        " \n",
        "pattern(5)"
      ],
      "execution_count": null,
      "outputs": [
        {
          "output_type": "stream",
          "text": [
            "* \r\n",
            "* * \r\n",
            "* * * \r\n",
            "* * * * \r\n",
            "* * * * * \r\n"
          ],
          "name": "stdout"
        }
      ]
    },
    {
      "cell_type": "code",
      "metadata": {
        "id": "nOlJ_dJS8lla",
        "colab_type": "code",
        "colab": {
          "base_uri": "https://localhost:8080/",
          "height": 85
        },
        "outputId": "18da5bc4-d4b9-47b5-e733-26ca49c96aa5"
      },
      "source": [
        "def is_prime(number): \n",
        "\tcount=0 \n",
        "\tfor i in range(1,number+1): \n",
        "\t\tif(number%i == 0): \n",
        "\t\t\tcount+=1 \n",
        " \n",
        "\tif(count == 2): \n",
        "\t\treturn True \n",
        "\treturn False\n",
        "\n",
        "def main(): \n",
        "\tfor i in range(1,10): \n",
        "\t\tif(is_prime(i)): \n",
        "\t\t\tprint(i) \n",
        "\n",
        " \n",
        "if __name__=='__main__': \n",
        "\tmain() "
      ],
      "execution_count": 28,
      "outputs": [
        {
          "output_type": "stream",
          "text": [
            "2\n",
            "3\n",
            "5\n",
            "7\n"
          ],
          "name": "stdout"
        }
      ]
    },
    {
      "cell_type": "code",
      "metadata": {
        "id": "6fKA13Z3G8wT",
        "colab_type": "code",
        "colab": {
          "base_uri": "https://localhost:8080/",
          "height": 51
        },
        "outputId": "ad59f29b-4dc9-4a4b-f693-6ece9dcd7416"
      },
      "source": [
        "n=int(input())\n",
        "sum = 0\n",
        "for num in range(0, n+1, 1):\n",
        "    sum = sum+num*num\n",
        "print(\"SUM of first \", n, \"numbers is: \", sum )"
      ],
      "execution_count": 47,
      "outputs": [
        {
          "output_type": "stream",
          "text": [
            "5\n",
            "SUM of first  5 numbers is:  55\n"
          ],
          "name": "stdout"
        }
      ]
    },
    {
      "cell_type": "code",
      "metadata": {
        "id": "tryGEz5sJfab",
        "colab_type": "code",
        "colab": {}
      },
      "source": [
        "i = 0\n",
        "while (i<10) :\n",
        "  print(i)\n",
        "  i = i + 1"
      ],
      "execution_count": null,
      "outputs": []
    },
    {
      "cell_type": "code",
      "metadata": {
        "id": "nRGhmadMJgPJ",
        "colab_type": "code",
        "colab": {
          "base_uri": "https://localhost:8080/",
          "height": 34
        },
        "outputId": "ac677feb-8f50-4e3b-a15f-b7a95928ca9e"
      },
      "source": [
        "i=1\n",
        "sum = 0\n",
        "while i<11 :\n",
        "  if(i == 10):\n",
        "    print(i, end=' ')\n",
        "  else:\n",
        "    print(i*i, \"+\" , end=' ')\n",
        "  sum = sum + i*i\n",
        "  i += 1\n",
        "print(\"=\", sum)"
      ],
      "execution_count": 49,
      "outputs": [
        {
          "output_type": "stream",
          "text": [
            "1 + 4 + 9 + 16 + 25 + 36 + 49 + 64 + 81 + 10 = 385\n"
          ],
          "name": "stdout"
        }
      ]
    },
    {
      "cell_type": "code",
      "metadata": {
        "id": "iATSkzS4J00D",
        "colab_type": "code",
        "colab": {
          "base_uri": "https://localhost:8080/",
          "height": 68
        },
        "outputId": "75979fb9-3feb-4b17-ee6f-4f6421fe5cac"
      },
      "source": [
        "start = int(input(\"Start: \"))\n",
        "end_p = int(input(\"End: \"))\n",
        "\n",
        "sum = 0\n",
        "i=start\n",
        "\n",
        "while i<end_p+1 :\n",
        "  if(i == end_p):\n",
        "    print(i, end=' ')\n",
        "  else:\n",
        "    print(i, \"+\" , end=' ')\n",
        "  sum = sum + i\n",
        "  i += 1\n",
        "print(\"=\", sum)"
      ],
      "execution_count": 50,
      "outputs": [
        {
          "output_type": "stream",
          "text": [
            "Start: 12\n",
            "End: 23\n",
            "12 + 13 + 14 + 15 + 16 + 17 + 18 + 19 + 20 + 21 + 22 + 23 = 210\n"
          ],
          "name": "stdout"
        }
      ]
    },
    {
      "cell_type": "code",
      "metadata": {
        "id": "q8Y67shBKGkf",
        "colab_type": "code",
        "colab": {
          "base_uri": "https://localhost:8080/",
          "height": 88
        },
        "outputId": "756a032f-cb3d-4e35-a01c-d83b3ad0b4cf"
      },
      "source": [
        "start = int(input(\"Start: \"))\n",
        "end_p = int(input(\"End: \"))\n",
        "\n",
        "sum = 0\n",
        "i=start\n",
        "\n",
        "while i<end_p+1 :\n",
        "  if i%2 == 0:\n",
        "    \n",
        "    if(i == end_p):\n",
        "      print(i, end=' ')\n",
        "    else:\n",
        "      print(i, \"+\" , end=' ')\n",
        "    \n",
        "    sum = sum + i\n",
        "\n",
        "  i += 1\n",
        "print(\"=\", sum)"
      ],
      "execution_count": 51,
      "outputs": [
        {
          "output_type": "stream",
          "text": [
            "Start: 5\n",
            "End: 88\n",
            "6 + 8 + 10 + 12 + 14 + 16 + 18 + 20 + 22 + 24 + 26 + 28 + 30 + 32 + 34 + 36 + 38 + 40 + 42 + 44 + 46 + 48 + 50 + 52 + 54 + 56 + 58 + 60 + 62 + 64 + 66 + 68 + 70 + 72 + 74 + 76 + 78 + 80 + 82 + 84 + 86 + 88 = 1974\n"
          ],
          "name": "stdout"
        }
      ]
    },
    {
      "cell_type": "code",
      "metadata": {
        "id": "o1gRDOMyKRuh",
        "colab_type": "code",
        "colab": {
          "base_uri": "https://localhost:8080/",
          "height": 68
        },
        "outputId": "90026636-673a-4a4c-f91f-c76e2460301e"
      },
      "source": [
        "start = int(input(\"Start: \"))\n",
        "end_p = int(input(\"End: \"))\n",
        "\n",
        "if start%2 == 1:\n",
        "  start = start+1\n",
        "\n",
        "if end_p%2 == 1:\n",
        "  end_p = end_p - 1\n",
        "\n",
        "sum = 0\n",
        "i=start\n",
        "\n",
        "while i<end_p+1 :\n",
        "  if(i == end_p):\n",
        "    print(i, end=' ')\n",
        "  else:\n",
        "    print(i, \"+\" , end=' ')\n",
        "  \n",
        "  sum = sum + i\n",
        "  i += 2\n",
        "\n",
        "print(\"=\", sum)"
      ],
      "execution_count": 52,
      "outputs": [
        {
          "output_type": "stream",
          "text": [
            "Start: 1\n",
            "End: 12\n",
            "2 + 4 + 6 + 8 + 10 + 12 = 42\n"
          ],
          "name": "stdout"
        }
      ]
    },
    {
      "cell_type": "code",
      "metadata": {
        "id": "JGRWE1IKKq-h",
        "colab_type": "code",
        "colab": {
          "base_uri": "https://localhost:8080/",
          "height": 34
        },
        "outputId": "60e9488d-ab7a-4e72-93c1-0d38db6e7b31"
      },
      "source": [
        "#l[start : end + 1: increment]\n",
        "l = list( range(0, 10, 1) )\n",
        "l"
      ],
      "execution_count": 53,
      "outputs": [
        {
          "output_type": "execute_result",
          "data": {
            "text/plain": [
              "[0, 1, 2, 3, 4, 5, 6, 7, 8, 9]"
            ]
          },
          "metadata": {
            "tags": []
          },
          "execution_count": 53
        }
      ]
    },
    {
      "cell_type": "code",
      "metadata": {
        "id": "MLfL17VlLxWD",
        "colab_type": "code",
        "colab": {
          "base_uri": "https://localhost:8080/",
          "height": 85
        },
        "outputId": "9fe0acc8-6eb8-4e92-f0d1-aba9d185a4e3"
      },
      "source": [
        "# max(a,b,c)\n",
        "a = int(input())\n",
        "b = int(input())\n",
        "c = int(input())\n",
        "\n",
        "if a>b and a>c:\n",
        "  print(a)\n",
        "elif b>a and b>c:\n",
        "  print(b)\n",
        "else:\n",
        "  print(c)"
      ],
      "execution_count": 54,
      "outputs": [
        {
          "output_type": "stream",
          "text": [
            "1\n",
            "2\n",
            "3\n",
            "3\n"
          ],
          "name": "stdout"
        }
      ]
    },
    {
      "cell_type": "code",
      "metadata": {
        "id": "U256MwT9MMoZ",
        "colab_type": "code",
        "colab": {}
      },
      "source": [
        "def midExam(name,ID,exam=\"python\",duration=\"30\",marks=20):\n",
        "  pass"
      ],
      "execution_count": 55,
      "outputs": []
    },
    {
      "cell_type": "code",
      "metadata": {
        "id": "69rH73IEMjUR",
        "colab_type": "code",
        "colab": {
          "base_uri": "https://localhost:8080/",
          "height": 163
        },
        "outputId": "2842f268-3e69-4b81-ebc8-3c68d48f6557"
      },
      "source": [
        "midExam()"
      ],
      "execution_count": 56,
      "outputs": [
        {
          "output_type": "error",
          "ename": "TypeError",
          "evalue": "ignored",
          "traceback": [
            "\u001b[0;31m---------------------------------------------------------------------------\u001b[0m",
            "\u001b[0;31mTypeError\u001b[0m                                 Traceback (most recent call last)",
            "\u001b[0;32m<ipython-input-56-1494a3687030>\u001b[0m in \u001b[0;36m<module>\u001b[0;34m()\u001b[0m\n\u001b[0;32m----> 1\u001b[0;31m \u001b[0mmidExam\u001b[0m\u001b[0;34m(\u001b[0m\u001b[0;34m)\u001b[0m\u001b[0;34m\u001b[0m\u001b[0;34m\u001b[0m\u001b[0m\n\u001b[0m",
            "\u001b[0;31mTypeError\u001b[0m: midExam() missing 2 required positional arguments: 'name' and 'ID'"
          ]
        }
      ]
    },
    {
      "cell_type": "code",
      "metadata": {
        "id": "8gN-YEH-MoBV",
        "colab_type": "code",
        "colab": {
          "base_uri": "https://localhost:8080/",
          "height": 163
        },
        "outputId": "2d4b9d5b-f6b9-439c-c3b3-3d80154cc733"
      },
      "source": [
        "midExam(\"Sakib\")"
      ],
      "execution_count": 57,
      "outputs": [
        {
          "output_type": "error",
          "ename": "TypeError",
          "evalue": "ignored",
          "traceback": [
            "\u001b[0;31m---------------------------------------------------------------------------\u001b[0m",
            "\u001b[0;31mTypeError\u001b[0m                                 Traceback (most recent call last)",
            "\u001b[0;32m<ipython-input-57-c428bfd72680>\u001b[0m in \u001b[0;36m<module>\u001b[0;34m()\u001b[0m\n\u001b[0;32m----> 1\u001b[0;31m \u001b[0mmidExam\u001b[0m\u001b[0;34m(\u001b[0m\u001b[0;34m\"Sakib\"\u001b[0m\u001b[0;34m)\u001b[0m\u001b[0;34m\u001b[0m\u001b[0;34m\u001b[0m\u001b[0m\n\u001b[0m",
            "\u001b[0;31mTypeError\u001b[0m: midExam() missing 1 required positional argument: 'ID'"
          ]
        }
      ]
    },
    {
      "cell_type": "code",
      "metadata": {
        "id": "v0vU-W14M1RM",
        "colab_type": "code",
        "colab": {}
      },
      "source": [
        "midExam(\"Sakib\",20,duration=30)"
      ],
      "execution_count": 59,
      "outputs": []
    },
    {
      "cell_type": "code",
      "metadata": {
        "id": "MXFTjHmLNI2E",
        "colab_type": "code",
        "colab": {}
      },
      "source": [
        "midExam(\"Sakib\",20)"
      ],
      "execution_count": 60,
      "outputs": []
    },
    {
      "cell_type": "code",
      "metadata": {
        "id": "P4hIyAJzNMNT",
        "colab_type": "code",
        "colab": {
          "base_uri": "https://localhost:8080/",
          "height": 129
        },
        "outputId": "22608066-aa93-4db6-ae28-8d5274ebcb48"
      },
      "source": [
        "midExam(exam=\"python\",duration=\"30\",marks=20,\"Ou\",30)"
      ],
      "execution_count": 61,
      "outputs": [
        {
          "output_type": "error",
          "ename": "SyntaxError",
          "evalue": "ignored",
          "traceback": [
            "\u001b[0;36m  File \u001b[0;32m\"<ipython-input-61-ba3a4e86f84f>\"\u001b[0;36m, line \u001b[0;32m1\u001b[0m\n\u001b[0;31m    midExam(exam=\"python\",duration=\"30\",marks=20,\"Ou\",30)\u001b[0m\n\u001b[0m                                                ^\u001b[0m\n\u001b[0;31mSyntaxError\u001b[0m\u001b[0;31m:\u001b[0m positional argument follows keyword argument\n"
          ]
        }
      ]
    },
    {
      "cell_type": "code",
      "metadata": {
        "id": "OpHfN4ZwNrzG",
        "colab_type": "code",
        "colab": {}
      },
      "source": [
        "midExam(\"Onu\",exam=\"python\",duration=\"30\",marks=20,ID=30)"
      ],
      "execution_count": 63,
      "outputs": []
    },
    {
      "cell_type": "code",
      "metadata": {
        "id": "iCHystXsN5BE",
        "colab_type": "code",
        "colab": {}
      },
      "source": [
        "midExam(name=\"Onu\",ID=30,marks=20,)"
      ],
      "execution_count": 64,
      "outputs": []
    },
    {
      "cell_type": "code",
      "metadata": {
        "id": "TGGbxfNsOKEW",
        "colab_type": "code",
        "colab": {
          "base_uri": "https://localhost:8080/",
          "height": 163
        },
        "outputId": "e89f8939-7733-4d6a-9da3-52c61e409302"
      },
      "source": [
        "midExam(name=\"Onu\",exam=\"python\",ID=30,number=20)"
      ],
      "execution_count": 66,
      "outputs": [
        {
          "output_type": "error",
          "ename": "TypeError",
          "evalue": "ignored",
          "traceback": [
            "\u001b[0;31m---------------------------------------------------------------------------\u001b[0m",
            "\u001b[0;31mTypeError\u001b[0m                                 Traceback (most recent call last)",
            "\u001b[0;32m<ipython-input-66-d4e88e0ffcc6>\u001b[0m in \u001b[0;36m<module>\u001b[0;34m()\u001b[0m\n\u001b[0;32m----> 1\u001b[0;31m \u001b[0mmidExam\u001b[0m\u001b[0;34m(\u001b[0m\u001b[0mname\u001b[0m\u001b[0;34m=\u001b[0m\u001b[0;34m\"Onu\"\u001b[0m\u001b[0;34m,\u001b[0m\u001b[0mexam\u001b[0m\u001b[0;34m=\u001b[0m\u001b[0;34m\"python\"\u001b[0m\u001b[0;34m,\u001b[0m\u001b[0mID\u001b[0m\u001b[0;34m=\u001b[0m\u001b[0;36m30\u001b[0m\u001b[0;34m,\u001b[0m\u001b[0mnumber\u001b[0m\u001b[0;34m=\u001b[0m\u001b[0;36m20\u001b[0m\u001b[0;34m)\u001b[0m\u001b[0;34m\u001b[0m\u001b[0;34m\u001b[0m\u001b[0m\n\u001b[0m",
            "\u001b[0;31mTypeError\u001b[0m: midExam() got an unexpected keyword argument 'number'"
          ]
        }
      ]
    },
    {
      "cell_type": "code",
      "metadata": {
        "id": "_9mMjg26OhXQ",
        "colab_type": "code",
        "colab": {
          "base_uri": "https://localhost:8080/",
          "height": 163
        },
        "outputId": "cf0afe79-f67c-4495-fc53-4d216e47f0b9"
      },
      "source": [
        "midExam(name=\"Onu\",exam=\"python\",ID=30,time=\"30\")"
      ],
      "execution_count": 67,
      "outputs": [
        {
          "output_type": "error",
          "ename": "TypeError",
          "evalue": "ignored",
          "traceback": [
            "\u001b[0;31m---------------------------------------------------------------------------\u001b[0m",
            "\u001b[0;31mTypeError\u001b[0m                                 Traceback (most recent call last)",
            "\u001b[0;32m<ipython-input-67-c7ceb46ba1e3>\u001b[0m in \u001b[0;36m<module>\u001b[0;34m()\u001b[0m\n\u001b[0;32m----> 1\u001b[0;31m \u001b[0mmidExam\u001b[0m\u001b[0;34m(\u001b[0m\u001b[0mname\u001b[0m\u001b[0;34m=\u001b[0m\u001b[0;34m\"Onu\"\u001b[0m\u001b[0;34m,\u001b[0m\u001b[0mexam\u001b[0m\u001b[0;34m=\u001b[0m\u001b[0;34m\"python\"\u001b[0m\u001b[0;34m,\u001b[0m\u001b[0mID\u001b[0m\u001b[0;34m=\u001b[0m\u001b[0;36m30\u001b[0m\u001b[0;34m,\u001b[0m\u001b[0mtime\u001b[0m\u001b[0;34m=\u001b[0m\u001b[0;34m\"30\"\u001b[0m\u001b[0;34m)\u001b[0m\u001b[0;34m\u001b[0m\u001b[0;34m\u001b[0m\u001b[0m\n\u001b[0m",
            "\u001b[0;31mTypeError\u001b[0m: midExam() got an unexpected keyword argument 'time'"
          ]
        }
      ]
    },
    {
      "cell_type": "code",
      "metadata": {
        "id": "Mr3zD9-QM9Ti",
        "colab_type": "code",
        "colab": {
          "base_uri": "https://localhost:8080/",
          "height": 129
        },
        "outputId": "c501a762-e35f-4098-de29-ced7c8e1b204"
      },
      "source": [
        "midExam(exam=\"python\",duration=\"30\",marks=20,name=\"Ou\",30)"
      ],
      "execution_count": 62,
      "outputs": [
        {
          "output_type": "error",
          "ename": "SyntaxError",
          "evalue": "ignored",
          "traceback": [
            "\u001b[0;36m  File \u001b[0;32m\"<ipython-input-62-6d9622db49a8>\"\u001b[0;36m, line \u001b[0;32m1\u001b[0m\n\u001b[0;31m    midExam(exam=\"python\",duration=\"30\",marks=20,name=\"Ou\",30)\u001b[0m\n\u001b[0m                                                          ^\u001b[0m\n\u001b[0;31mSyntaxError\u001b[0m\u001b[0;31m:\u001b[0m positional argument follows keyword argument\n"
          ]
        }
      ]
    }
  ]
}